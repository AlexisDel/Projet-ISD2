{
 "cells": [
  {
   "cell_type": "markdown",
   "metadata": {},
   "source": [
    "<table>\n",
    "<tr>\n",
    "    <td width=10%><img src=\"./img/logo_lri.jpg\"></td>\n",
    "    <td width=30%><img src=\"./img/medi-chal_logo.png\" height=15%></img></td>\n",
    "</tr>\n",
    "\n",
    "</table>"
   ]
  },
  {
   "cell_type": "markdown",
   "metadata": {},
   "source": [
    "<br/><br/><div id=\"top\"></div>\n",
    "\n",
    "<center><a style=\"font-size: 40pt; font-weight: bold\">\n",
    "    Être ou ne pas être ?\n",
    "</a></center>\n",
    "<br/>\n",
    "<center><a style=\"font-size: 22pt; font-weight: bold\">\n",
    "    Un problème de classification binaire sur des données médicales artificelles\n",
    "<br/>\n",
    "\n",
    "---"
   ]
  },
  {
   "cell_type": "markdown",
   "metadata": {},
   "source": [
    "# Membres du groupe\n",
    "\n",
    "**Minimum 2, Maximum 3**"
   ]
  },
  {
   "cell_type": "markdown",
   "metadata": {},
   "source": [
    "<span style=\"color:red\">\n",
    "    Répondre ci-dessous\n",
    "</span>"
   ]
  },
  {
   "cell_type": "markdown",
   "metadata": {},
   "source": [
    "* Delplace, Alexis\n",
    "* Ruiz Ocampo, Jacobo"
   ]
  },
  {
   "cell_type": "markdown",
   "metadata": {},
   "source": [
    "<b><font size=\"5\">Table des matières</font></b><br/><br/>\n",
    "&emsp;&emsp;&emsp; 1. <a href=\"#1\"> Compréhension du problème</a><br/>\n",
    "&emsp;&emsp;&emsp; 2. <a href=\"#2\"> Chargement les données</a><br/>\n",
    "&emsp;&emsp;&emsp; 3. <a href=\"#3\"> Analyse exploratoire</a><br/>\n",
    "&emsp;&emsp;&emsp; 4. <a href=\"#4\"> Preprocessing </a><br/>\n",
    "&emsp;&emsp;&emsp; 5. <a href=\"#5\"> Modèles de classification</a><br/>\n",
    "&emsp;&emsp;&emsp; 6. <a href=\"#6\"> Évaluations</a><br/>"
   ]
  },
  {
   "cell_type": "markdown",
   "metadata": {},
   "source": [
    "# Présentation du challenge\n",
    "\n",
    "## La question principale de ce challenge est : \n",
    "\n",
    "* Comment prédire la survie d'un patient compte tenu de son dossier médical ? \n",
    "    \n",
    "* Plus précisément, vous devrez prédire la survie des patients pendant leur séjour à l'hôpital\n",
    " \n",
    "Chaque jour, le personnel soignant collecte de nombreuses informations sur les patients en posant des questions et en utilisant des outils de mesure (stéthoscope, analyse de sang, capteurs, etc.). Ces données sont très utiles pour surveiller l'état de santé, diagnostiquer et choisir les traitements.\n",
    "\n",
    "Elles peuvent également être utilisées pour l'analyse statistique prédictive."
   ]
  },
  {
   "cell_type": "markdown",
   "metadata": {},
   "source": [
    "## Données\n",
    "\n",
    "L'ensemble de données contient des informations sur 80'000 patients, représentés par des variables (descripteurs) catégorielles, binaires et numériques. Ces variables sont, par exemple, l'âge, le sexe, l'origine ethnique, l'état matrimonial, ainsi que des données médicales telles que la tension artérielle ou le taux de glucose. Il y a un total de 342 variables.\n",
    "\n",
    "La classe (étiquette ou label) à prédire est une variable binaire indiquant si le patient est décédé ou non pendant son séjour à l'hôpital. Heureusement, la plupart d'entre eux survivent :\n",
    "\n",
    "![](img/tobe.png)"
   ]
  },
  {
   "cell_type": "markdown",
   "metadata": {},
   "source": [
    "## Tâche\n",
    "\n",
    "La tâche consiste à créer un modèle capable d'apprendre à partir des données et de faire des prédictions (apprentissage supervisé). Chaque instance (patient) possède une variable indiquant si elle·il est décédé·e ou non pendant son séjour à l'hôpital.\n",
    "\n",
    "Références et crédit :\n",
    "\n",
    "Isabelle Guyon, Kristin Bennett, Andrew Yale, Adrien Pavao, Thomas Gerspacher"
   ]
  },
  {
   "cell_type": "markdown",
   "metadata": {},
   "source": [
    "## Instructions\n",
    "\n",
    "Le but de ce TP est de travailler sur un challenge de prédiction de la mortalité.\n",
    "\n",
    "Le lien vers le challenge :\n",
    "https://competitions.codalab.org/competitions/30715\n",
    "\n",
    "* **Étape 1 :** S'enregistrer sur https://competitions.codalab.org\n",
    "* **Étape 2:** Téléchargez le jeu de données à partir de la [page](https://competitions.codalab.org/competitions/30715#participate-get_starting_kit) \"Participate > Files > Public Data\". Placez le dossier \"public_data\" dans le même dossier que celui contenant ce notebook.\n",
    "* **Étape 3:** Parcourez ce notebook. Vous devrez lire, exécuter, **coder vos propres méthodes** et **répondre aux questions**. Utilisez la cellule ***code*** pour le codage et la cellule ***markdown*** pour répondre aux questions."
   ]
  },
  {
   "cell_type": "markdown",
   "metadata": {},
   "source": [
    "## Évaluation du projet\n",
    "\n",
    "* **4 points** pour la partie compréhension et analyse exploratoire\n",
    "    \n",
    "* **4 points** pour un code propre et bien documenté\n",
    "\n",
    "* **4 points** pour la qualité du modèle (sélection du modèle, sélection des hyperparamètres)\n",
    "\n",
    "* **4 points** pour une bonne évaluation des performances du modèle\n",
    "\n",
    "* **4 points** pour l'originalité et la complétude de la solution \n",
    "\n",
    "* **1 point bonus** pour l'équipe gagnante du challenge"
   ]
  },
  {
   "cell_type": "markdown",
   "metadata": {},
   "source": [
    "### FAQ\n",
    "\n",
    "* Soumettre uniquement le notebook sur eCampus\n",
    "\n",
    "* La partie texte (explications, résultats, problèmes, sans le code) ne doit pas dépasser 3 pages A4 11pt (< 1500 mots)"
   ]
  },
  {
   "cell_type": "markdown",
   "metadata": {},
   "source": [
    "# Challenge"
   ]
  },
  {
   "cell_type": "markdown",
   "metadata": {},
   "source": [
    "Module particulier requis : `imblearn` (à installer avec `conda` ou `pip`)\n",
    "\n",
    "* `conda install -c conda-forge imbalanced-learn`\n",
    "\n",
    "* `pip install imbalanced-learn`"
   ]
  },
  {
   "cell_type": "code",
   "execution_count": 1,
   "metadata": {},
   "outputs": [],
   "source": [
    "import time\n",
    "from datetime import datetime\n",
    "from pathlib import Path\n",
    "from zipfile import ZipFile\n",
    "import math\n",
    "\n",
    "import imblearn\n",
    "import matplotlib\n",
    "import matplotlib.pyplot as plt\n",
    "import numpy as np\n",
    "import pandas as pd\n",
    "import seaborn as sns\n",
    "from sklearn import (\n",
    "    decomposition,\n",
    "    discriminant_analysis,\n",
    "    ensemble,\n",
    "    linear_model,\n",
    "    metrics,\n",
    "    model_selection,\n",
    "    naive_bayes,\n",
    "    pipeline,\n",
    "    preprocessing,\n",
    "    svm,\n",
    ")"
   ]
  },
  {
   "cell_type": "code",
   "execution_count": 2,
   "metadata": {},
   "outputs": [],
   "source": [
    "%reload_ext autoreload\n",
    "%autoreload 2\n",
    "\n",
    "%config InlineBackend.figure_format=\"retina\"  # For high DPI display\n",
    "\n",
    "# Set precision for pd and np (np: suppress also sci notation)\n",
    "np.set_printoptions(precision=3, suppress=True)\n",
    "pd.options.display.float_format = \"{:,.4g}\".format"
   ]
  },
  {
   "cell_type": "markdown",
   "metadata": {},
   "source": [
    "## <a id=\"1\">1. Compréhension du problème</a>  "
   ]
  },
  {
   "cell_type": "markdown",
   "metadata": {},
   "source": [
    "### Expliquez brièvement la tâche avec vos mots"
   ]
  },
  {
   "cell_type": "markdown",
   "metadata": {},
   "source": [
    "<span style=\"color:red\">\n",
    "    Répondre ci-dessous\n",
    "</span>"
   ]
  },
  {
   "cell_type": "markdown",
   "metadata": {},
   "source": [
    "L'objectif du projet est d'utiliser des modèles d'apprentissage supervisé avec la library scikitlearn et des techniques de traitement de données pour classifier avec le plus d'accuracy possible si un patient est mort ou pas pendant son séjour à l'hopital. On va fit nos modeles avec un training dataset de 80000 patients déjà labeled et tune les\n",
    "hyperparametres pour trouver le modèle le plus adapté puis l'utiliser pour predire les labels de données jamais vues auparavant."
   ]
  },
  {
   "cell_type": "markdown",
   "metadata": {},
   "source": [
    "### Pourquoi la métrique utilisée ici est la *balanced accuracy* plutôt que simplement l'*accuracy* ?"
   ]
  },
  {
   "cell_type": "markdown",
   "metadata": {},
   "source": [
    "<span style=\"color:red\">\n",
    "    Répondre ci-dessous\n",
    "</span>"
   ]
  },
  {
   "cell_type": "markdown",
   "metadata": {},
   "source": [
    "Il faut comprendre que la distribution des patients entre les deux labels est très inégal, dans le training dataset environ 3% des patients meurt. Si on utilise la métrique accuracy il suffit de donner un modèle qui dit que le patient va pas mourir pour avoir 97% de accuracy ce qui n'est pas du tout un modèle prédictif correct (On peut pas prédire quel patients vont mourir). À cause de ce probleme, on utilise balanced accuracy qui tient en compte de la distribution inégal parmis les deux classes. "
   ]
  },
  {
   "cell_type": "markdown",
   "metadata": {},
   "source": [
    "## <a id=\"2\">2. Chargement les données</a>  "
   ]
  },
  {
   "cell_type": "code",
   "execution_count": 3,
   "metadata": {},
   "outputs": [],
   "source": [
    "DATA = Path(\"public_data\")\n",
    "\n",
    "DROP_VARS = [\"ADMITTIME\", \"DISCHTIME\", \"SUBJECT_ID\", \"HADM_ID\"]"
   ]
  },
  {
   "cell_type": "code",
   "execution_count": 4,
   "metadata": {},
   "outputs": [],
   "source": [
    "features = pd.read_csv(\n",
    "    DATA / \"mimic_synthetic_feat.name\", header=None\n",
    ").values.flatten()\n",
    "\n",
    "labels = pd.read_csv(\n",
    "    DATA / \"mimic_synthetic_label.name\", header=None\n",
    ").values.flatten()\n",
    "\n",
    "x_df = pd.read_csv(\n",
    "    DATA / \"mimic_synthetic_train.data\",\n",
    "    header=None,\n",
    "    names=features,\n",
    "    sep=\" \",\n",
    ")\n",
    "\n",
    "# Remove time related data that are not needed\n",
    "x_df.drop(columns=DROP_VARS, inplace=True)\n",
    "\n",
    "ys = pd.Series(\n",
    "    pd.read_csv(\n",
    "        DATA / \"mimic_synthetic_train.solution\",\n",
    "        header=None,\n",
    "        names=labels,\n",
    "        sep=\" \",\n",
    "    ).values.flatten()\n",
    ")"
   ]
  },
  {
   "cell_type": "code",
   "execution_count": 5,
   "metadata": {},
   "outputs": [
    {
     "data": {
      "text/html": [
       "<div>\n",
       "<style scoped>\n",
       "    .dataframe tbody tr th:only-of-type {\n",
       "        vertical-align: middle;\n",
       "    }\n",
       "\n",
       "    .dataframe tbody tr th {\n",
       "        vertical-align: top;\n",
       "    }\n",
       "\n",
       "    .dataframe thead th {\n",
       "        text-align: right;\n",
       "    }\n",
       "</style>\n",
       "<table border=\"1\" class=\"dataframe\">\n",
       "  <thead>\n",
       "    <tr style=\"text-align: right;\">\n",
       "      <th></th>\n",
       "      <th>INSURANCE</th>\n",
       "      <th>LANGUAGE</th>\n",
       "      <th>RELIGION</th>\n",
       "      <th>MARITAL_STATUS</th>\n",
       "      <th>ETHNICITY</th>\n",
       "      <th>GENDER</th>\n",
       "      <th>AGE</th>\n",
       "      <th>HR_MIN_DAY1</th>\n",
       "      <th>HR_MAX_DAY1</th>\n",
       "      <th>HR_MEAN_DAY1</th>\n",
       "      <th>...</th>\n",
       "      <th>Eyeinfectn</th>\n",
       "      <th>Othereyedx</th>\n",
       "      <th>Otitismedia</th>\n",
       "      <th>Dizziness</th>\n",
       "      <th>Othereardx</th>\n",
       "      <th>Othnervdx</th>\n",
       "      <th>Hrtvalvedx</th>\n",
       "      <th>Carditis</th>\n",
       "      <th>HTN</th>\n",
       "      <th>Htncomplicn</th>\n",
       "    </tr>\n",
       "  </thead>\n",
       "  <tbody>\n",
       "    <tr>\n",
       "      <th>0</th>\n",
       "      <td>Private</td>\n",
       "      <td>ENGL</td>\n",
       "      <td>CATHOLIC</td>\n",
       "      <td>DIVORCED</td>\n",
       "      <td>WHITE</td>\n",
       "      <td>F</td>\n",
       "      <td>21</td>\n",
       "      <td>57.21</td>\n",
       "      <td>108.7</td>\n",
       "      <td>70.84</td>\n",
       "      <td>...</td>\n",
       "      <td>0</td>\n",
       "      <td>0</td>\n",
       "      <td>0</td>\n",
       "      <td>0</td>\n",
       "      <td>0</td>\n",
       "      <td>0</td>\n",
       "      <td>0</td>\n",
       "      <td>0</td>\n",
       "      <td>0</td>\n",
       "      <td>0</td>\n",
       "    </tr>\n",
       "    <tr>\n",
       "      <th>1</th>\n",
       "      <td>Private</td>\n",
       "      <td>ENGL</td>\n",
       "      <td>UNOBTAINABLE</td>\n",
       "      <td>SINGLE</td>\n",
       "      <td>WHITE</td>\n",
       "      <td>M</td>\n",
       "      <td>39</td>\n",
       "      <td>79.33</td>\n",
       "      <td>121.1</td>\n",
       "      <td>96.92</td>\n",
       "      <td>...</td>\n",
       "      <td>0</td>\n",
       "      <td>0</td>\n",
       "      <td>0</td>\n",
       "      <td>0</td>\n",
       "      <td>0</td>\n",
       "      <td>0</td>\n",
       "      <td>0</td>\n",
       "      <td>0</td>\n",
       "      <td>0</td>\n",
       "      <td>1</td>\n",
       "    </tr>\n",
       "    <tr>\n",
       "      <th>2</th>\n",
       "      <td>Medicaid</td>\n",
       "      <td>SPAN</td>\n",
       "      <td>CATHOLIC</td>\n",
       "      <td>WIDOWED</td>\n",
       "      <td>OTHER</td>\n",
       "      <td>M</td>\n",
       "      <td>40</td>\n",
       "      <td>118.2</td>\n",
       "      <td>175.2</td>\n",
       "      <td>140.9</td>\n",
       "      <td>...</td>\n",
       "      <td>0</td>\n",
       "      <td>0</td>\n",
       "      <td>0</td>\n",
       "      <td>0</td>\n",
       "      <td>0</td>\n",
       "      <td>0</td>\n",
       "      <td>0</td>\n",
       "      <td>0</td>\n",
       "      <td>0</td>\n",
       "      <td>0</td>\n",
       "    </tr>\n",
       "  </tbody>\n",
       "</table>\n",
       "<p>3 rows × 337 columns</p>\n",
       "</div>"
      ],
      "text/plain": [
       "  INSURANCE LANGUAGE      RELIGION MARITAL_STATUS ETHNICITY GENDER  AGE  \\\n",
       "0   Private     ENGL      CATHOLIC       DIVORCED     WHITE      F   21   \n",
       "1   Private     ENGL  UNOBTAINABLE         SINGLE     WHITE      M   39   \n",
       "2  Medicaid     SPAN      CATHOLIC        WIDOWED     OTHER      M   40   \n",
       "\n",
       "   HR_MIN_DAY1  HR_MAX_DAY1  HR_MEAN_DAY1  ...  Eyeinfectn  Othereyedx  \\\n",
       "0        57.21        108.7         70.84  ...           0           0   \n",
       "1        79.33        121.1         96.92  ...           0           0   \n",
       "2        118.2        175.2         140.9  ...           0           0   \n",
       "\n",
       "   Otitismedia  Dizziness  Othereardx  Othnervdx  Hrtvalvedx  Carditis  HTN  \\\n",
       "0            0          0           0          0           0         0    0   \n",
       "1            0          0           0          0           0         0    0   \n",
       "2            0          0           0          0           0         0    0   \n",
       "\n",
       "   Htncomplicn  \n",
       "0            0  \n",
       "1            1  \n",
       "2            0  \n",
       "\n",
       "[3 rows x 337 columns]"
      ]
     },
     "execution_count": 5,
     "metadata": {},
     "output_type": "execute_result"
    }
   ],
   "source": [
    "x_df.head(3)"
   ]
  },
  {
   "cell_type": "markdown",
   "metadata": {},
   "source": [
    "C'est **l'ensemble d'entrainement**. Cela signifie que vous avez accès aux étiquettes et que vous pouvez l'utiliser comme vous le souhaitez pour préparer votre modèle.\n",
    "\n",
    "Plus tard, vous ferez en sorte que votre modèle tire des prédictions de **l'ensemble de test** afin de les télécharger sur Codalab et d'obtenir un score sur des données non-vues."
   ]
  },
  {
   "cell_type": "code",
   "execution_count": 6,
   "metadata": {},
   "outputs": [],
   "source": [
    "# Load testing set\n",
    "x_test_df = pd.read_csv(\n",
    "    DATA / \"mimic_synthetic_test.data\",\n",
    "    header=None,\n",
    "    names=features,\n",
    "    sep=\" \",\n",
    ")\n",
    "\n",
    "# Remove time related data that are not needed\n",
    "x_test_df.drop(columns=DROP_VARS, inplace=True)"
   ]
  },
  {
   "cell_type": "markdown",
   "metadata": {},
   "source": [
    "## <a id=\"3\">3. Analyse exploratoire</a>  "
   ]
  },
  {
   "cell_type": "markdown",
   "metadata": {},
   "source": [
    "####  Types des variables  <a id='types'></a>"
   ]
  },
  {
   "cell_type": "code",
   "execution_count": 7,
   "metadata": {},
   "outputs": [
    {
     "data": {
      "text/plain": [
       "Numerical      226\n",
       "Binary         107\n",
       "Categorical      8\n",
       "Name: 0, dtype: int64"
      ]
     },
     "execution_count": 7,
     "metadata": {},
     "output_type": "execute_result"
    }
   ],
   "source": [
    "types = pd.read_csv(DATA / \"mimic_synthetic_feat.type\", header=None).set_index(\n",
    "    features\n",
    ")[0]\n",
    "\n",
    "types.value_counts()"
   ]
  },
  {
   "cell_type": "markdown",
   "metadata": {},
   "source": [
    "#### Labels distribution"
   ]
  },
  {
   "cell_type": "code",
   "execution_count": 8,
   "metadata": {},
   "outputs": [
    {
     "data": {
      "text/plain": [
       "count     8e+04\n",
       "mean    0.03496\n",
       "std      0.1837\n",
       "min           0\n",
       "25%           0\n",
       "50%           0\n",
       "75%           0\n",
       "max           1\n",
       "dtype: float64"
      ]
     },
     "execution_count": 8,
     "metadata": {},
     "output_type": "execute_result"
    }
   ],
   "source": [
    "ys.describe()"
   ]
  },
  {
   "cell_type": "code",
   "execution_count": 9,
   "metadata": {},
   "outputs": [
    {
     "data": {
      "image/png": "[encoded data removed]",
      "text/plain": [
       "<Figure size 432x288 with 1 Axes>"
      ]
     },
     "metadata": {
      "image/png": {
       "height": 249,
       "width": 388
      },
      "needs_background": "light"
     },
     "output_type": "display_data"
    }
   ],
   "source": [
    "ys.hist(bins=2, grid=False, align=\"left\")\n",
    "plt.xticks([0, 0.5], [\"Survived\", \"Died\"])\n",
    "# plt.savefig(\"img/tobe.png\", dpi=300)\n",
    "plt.show()"
   ]
  },
  {
   "cell_type": "markdown",
   "metadata": {},
   "source": [
    "### Code : Produire les graphiques suivants\n",
    "\n",
    "* Diagrammes à barres de certaines variables catégorielles (par exemple \"LANGUAGE\", \"MARITAL_STATUS\")\n",
    "\n",
    "* Montrez la corrélation entre certaines variables et la variable cible y\n",
    "\n",
    "* Un autre graphique ou toute analyse exploratoire à laquelle vous pouvez penser"
   ]
  },
  {
   "cell_type": "markdown",
   "metadata": {},
   "source": [
    "### Step 1 : Datatypes / Null values"
   ]
  },
  {
   "cell_type": "code",
   "execution_count": 10,
   "metadata": {
    "scrolled": true
   },
   "outputs": [
    {
     "name": "stdout",
     "output_type": "stream",
     "text": [
      "int64      279\n",
      "float64     51\n",
      "object       7\n",
      "dtype: int64\n"
     ]
    }
   ],
   "source": [
    "# Features datatype\n",
    "with pd.option_context('display.max_rows', None, 'display.max_columns', None):\n",
    "    print(x_df.dtypes.value_counts())"
   ]
  },
  {
   "cell_type": "markdown",
   "metadata": {},
   "source": [
    "<span style=\"color:red\">\n",
    "    Utiliser des cellules markdown pour ajouter des commentaires\n",
    "</span>"
   ]
  },
  {
   "cell_type": "markdown",
   "metadata": {},
   "source": [
    "On remarque ici que certaines features sont de type \"object\", il va donc falloir les traiter lors du prepocessing afin de pouvoir les utiliser dans nos models."
   ]
  },
  {
   "cell_type": "markdown",
   "metadata": {},
   "source": [
    "Les features de type \"object\" représente en règle général les variables catégorielles. Or, on remarque ici, que l'on a que 7 features de type \"object\", alors que d'après [types](#types), il y a dans le dataset, 8 features catégorielle. On  va donc regarder ça de plus près."
   ]
  },
  {
   "cell_type": "code",
   "execution_count": 11,
   "metadata": {},
   "outputs": [
    {
     "name": "stdout",
     "output_type": "stream",
     "text": [
      "types from \"mimic_synthetic_feat.type\" file :\n",
      "ADMITTIME\n",
      "DISCHTIME\n",
      "INSURANCE\n",
      "LANGUAGE\n",
      "RELIGION\n",
      "MARITAL_STATUS\n",
      "ETHNICITY\n",
      "ICU\n",
      "\n",
      " types from dataset.dtypes() method :\n",
      "INSURANCE\n",
      "LANGUAGE\n",
      "RELIGION\n",
      "MARITAL_STATUS\n",
      "ETHNICITY\n",
      "GENDER\n",
      "ICU\n"
     ]
    }
   ],
   "source": [
    "# Categorical features from the types file\n",
    "print(\"types from \\\"mimic_synthetic_feat.type\\\" file :\")\n",
    "for feature, _type in types.pipe(lambda x: x[x == \"Categorical\"]).items():\n",
    "    print(feature)\n",
    "\n",
    "# Features that have an object type\n",
    "print(\"\\n\", \"types from dataset.dtypes() method :\")\n",
    "for feature, _type in x_df.dtypes.pipe(lambda x: x[x == \"object\"]).items():\n",
    "    print(feature)"
   ]
  },
  {
   "cell_type": "markdown",
   "metadata": {},
   "source": [
    "<span style=\"color:red\">\n",
    "    Utiliser des cellules markdown pour ajouter des commentaires\n",
    "</span>"
   ]
  },
  {
   "cell_type": "markdown",
   "metadata": {},
   "source": [
    "On peut voir que dans dataset.dtypes() on a plus \"ADMITTIME\" et \"DISCHTIME\" car on les drop plus haut dans le notebook. On ne retrouve pas \"GENDER\" en tant que variable catégorielle dans le fichier des type car on considère que l'on est soit un homme soit une femme. C'est un peut pertubant puisque la variable \"GENDER\" est de type object et prends commme valeur \"F\" ou \"M\" (0 ou 1 aurait été plus logique au vu du \"Binary\").  \n",
    "Mais au final, il n'y a donc pas de problèmes concernant les types du dataset."
   ]
  },
  {
   "cell_type": "code",
   "execution_count": 12,
   "metadata": {},
   "outputs": [
    {
     "name": "stdout",
     "output_type": "stream",
     "text": [
      "Binary\n"
     ]
    }
   ],
   "source": [
    "print(types.loc[\"GENDER\"])"
   ]
  },
  {
   "cell_type": "code",
   "execution_count": 13,
   "metadata": {},
   "outputs": [
    {
     "name": "stdout",
     "output_type": "stream",
     "text": [
      "False    331\n",
      "True       6\n",
      "dtype: int64\n"
     ]
    }
   ],
   "source": [
    "# Number of features that have NaN values\n",
    "with pd.option_context('display.max_rows', None, 'display.max_columns', None):\n",
    "    print(x_df.isnull().any().value_counts())\n"
   ]
  },
  {
   "cell_type": "markdown",
   "metadata": {},
   "source": [
    "<span style=\"color:red\">\n",
    "    Utiliser des cellules markdown pour ajouter des commentaires\n",
    "</span>"
   ]
  },
  {
   "cell_type": "markdown",
   "metadata": {},
   "source": [
    "On remarque ici que certaines features ont des valeurs null pour certain labels, il va donc falloir ici aussi s'en occuper lors du preprocessing. Pour se rendre compte du nombre de null values dans notre dataset, on va afficher le nombre de valeur nulles pour chaque features."
   ]
  },
  {
   "cell_type": "code",
   "execution_count": 14,
   "metadata": {},
   "outputs": [
    {
     "name": "stdout",
     "output_type": "stream",
     "text": [
      "LANGUAGE : 1\n",
      "MARITAL_STATUS : 1\n",
      "ICU : 2\n",
      "ECodes:Adverseeffectsofmedicalcare : 6\n",
      "Otnutritdx : 2\n",
      "Othnervdx : 1\n"
     ]
    }
   ],
   "source": [
    "# Features that have NaN values (with a their NaN values counter)\n",
    "for feature, counter in x_df.isnull().sum().items():\n",
    "    if counter > 0:\n",
    "        print(feature, \":\", counter)"
   ]
  },
  {
   "cell_type": "markdown",
   "metadata": {},
   "source": [
    "<span style=\"color:red\">\n",
    "    Utiliser des cellules markdown pour ajouter des commentaires\n",
    "</span>"
   ]
  },
  {
   "cell_type": "markdown",
   "metadata": {},
   "source": [
    "On s'aperçoit que l'on a que très peut de valeurs null. Il est utile préférable de supprimer la feature du dataset si on a trop de valeurs null (ex : 70%) pour celle ci.  \n",
    "Ici ça n'est pas le cas, ce qui est une bonne nouvelle pour la suite."
   ]
  },
  {
   "cell_type": "markdown",
   "metadata": {},
   "source": [
    "### Step 2 : Visualization"
   ]
  },
  {
   "cell_type": "markdown",
   "metadata": {},
   "source": [
    "Exemple founis"
   ]
  },
  {
   "cell_type": "code",
   "execution_count": 15,
   "metadata": {},
   "outputs": [
    {
     "data": {
      "image/png": "[encoded data removed]",
      "text/plain": [
       "<Figure size 432x288 with 1 Axes>"
      ]
     },
     "metadata": {
      "image/png": {
       "height": 302,
       "width": 397
      },
      "needs_background": "light"
     },
     "output_type": "display_data"
    }
   ],
   "source": [
    "x_marital_cnts = x_df[\"MARITAL_STATUS\"].value_counts()\n",
    "x_marital_cnts.plot.bar(rot=30)\n",
    "plt.show()"
   ]
  },
  {
   "cell_type": "code",
   "execution_count": 16,
   "metadata": {},
   "outputs": [
    {
     "data": {
      "image/png": "[encoded data removed]",
      "text/plain": [
       "<Figure size 432x288 with 1 Axes>"
      ]
     },
     "metadata": {
      "image/png": {
       "height": 296,
       "width": 401
      },
      "needs_background": "light"
     },
     "output_type": "display_data"
    }
   ],
   "source": [
    "counts = x_df.LANGUAGE.value_counts()\n",
    "threshold = 100\n",
    "\n",
    "# Get all language with more than 100 speakers\n",
    "mask = counts > threshold\n",
    "\n",
    "# Get number of speakers than dont speak a language with more than 100 speakers\n",
    "tail_counts = counts.loc[~mask].sum()\n",
    "\n",
    "# Add the most spoken languages (>100 speakers)\n",
    "language = counts.loc[mask]\n",
    "\n",
    "# Regroup all speakers who dont speak a language with more than 100 speakers in the \"other\" category\n",
    "language['other'] = tail_counts\n",
    "\n",
    "# Plot\n",
    "language.plot(kind='bar')\n",
    "plt.xticks(rotation=45)\n",
    "plt.title(\"Language Speakers Repartition\", loc='left')\n",
    "plt.xlabel(\"Language\")\n",
    "plt.ylabel(\"Speakers\")\n",
    "plt.show()"
   ]
  },
  {
   "cell_type": "markdown",
   "metadata": {},
   "source": [
    "#### Correlations"
   ]
  },
  {
   "cell_type": "code",
   "execution_count": 17,
   "metadata": {},
   "outputs": [],
   "source": [
    "# Copy dataset\n",
    "dataset_df = x_df.copy()\n",
    "\n",
    "# Add target to dataset\n",
    "dataset_df['DIED'] = ys\n",
    "\n",
    "# Get correlation matrix\n",
    "corr = dataset_df.corr()\n",
    "\n",
    "# Get correlation between all variables and y ('DIED')\n",
    "# and drop 'DIED' x varible\n",
    "corr_DIED = corr.DIED.drop('DIED')"
   ]
  },
  {
   "cell_type": "code",
   "execution_count": 18,
   "metadata": {},
   "outputs": [
    {
     "data": {
      "text/plain": [
       "<AxesSubplot:>"
      ]
     },
     "execution_count": 18,
     "metadata": {},
     "output_type": "execute_result"
    },
    {
     "data": {
      "image/png": "[encoded data removed]",
      "text/plain": [
       "<Figure size 432x288 with 1 Axes>"
      ]
     },
     "metadata": {
      "image/png": {
       "height": 248,
       "width": 482
      },
      "needs_background": "light"
     },
     "output_type": "display_data"
    }
   ],
   "source": [
    "# Re order variables by correlation coefficient absolute value\n",
    "most_correlated = corr_DIED.reindex(corr_DIED.abs().sort_values(ascending=False).index)\n",
    "\n",
    "# Plot top 10 variables (ordered)\n",
    "most_correlated.head(20).plot(kind='barh')"
   ]
  },
  {
   "cell_type": "markdown",
   "metadata": {},
   "source": [
    "Hint:\n",
    "\n",
    "* Utilisez un graphique avec des barres horizontales `barh` (pour visualiser les valeurs positives et négatives)"
   ]
  },
  {
   "cell_type": "markdown",
   "metadata": {},
   "source": [
    "<span style=\"color:red\">\n",
    "    Utiliser des cellules markdown pour ajouter des commentaires\n",
    "</span>"
   ]
  },
  {
   "cell_type": "markdown",
   "metadata": {},
   "source": [
    "On remarque que dans le top 20 des features les plus corrélés que il y a une très grande marjorité de minimum, maximum et moyenne concernant des métriques telle que le rythme cardiaque, la température corporelle ou le taux de réspiration."
   ]
  },
  {
   "cell_type": "markdown",
   "metadata": {},
   "source": [
    "## <a id=\"4\">4. Preprocessing</a>"
   ]
  },
  {
   "cell_type": "markdown",
   "metadata": {},
   "source": [
    "### Code : Traitement du problème des valeurs manquantes (ou non-définies, NAN)"
   ]
  },
  {
   "cell_type": "markdown",
   "metadata": {},
   "source": [
    "La solution la plus simple est d'éliminer l'ensemble des colonnes où il y a des données manquantes, mais on perd de l'information. \n",
    "\n",
    "Notez qu'il faut supprimer l'union des colonnes en question pour l'ensemble d'entrainement et de test, afin de garder des dimensions cohérentes."
   ]
  },
  {
   "cell_type": "code",
   "execution_count": 20,
   "metadata": {},
   "outputs": [
    {
     "name": "stdout",
     "output_type": "stream",
     "text": [
      "(79999, 337) (20001, 337)\n"
     ]
    }
   ],
   "source": [
    "print(x_df.shape, x_test_df.shape)"
   ]
  },
  {
   "cell_type": "code",
   "execution_count": 21,
   "metadata": {},
   "outputs": [
    {
     "data": {
      "text/plain": [
       "LANGUAGE                              1\n",
       "MARITAL_STATUS                        1\n",
       "ICU                                   2\n",
       "ECodes:Adverseeffectsofmedicalcare    6\n",
       "Otnutritdx                            2\n",
       "Othnervdx                             1\n",
       "dtype: int64"
      ]
     },
     "execution_count": 21,
     "metadata": {},
     "output_type": "execute_result"
    }
   ],
   "source": [
    "x_nans = x_df.isna().sum()\n",
    "x_miss = x_nans[x_nans > 0]\n",
    "x_miss"
   ]
  },
  {
   "cell_type": "code",
   "execution_count": 22,
   "metadata": {},
   "outputs": [
    {
     "data": {
      "text/plain": [
       "LANGUAGE                              2\n",
       "ECodes:Adverseeffectsofmedicalcare    3\n",
       "dtype: int64"
      ]
     },
     "execution_count": 22,
     "metadata": {},
     "output_type": "execute_result"
    }
   ],
   "source": [
    "x_test_nans = x_test_df.isna().sum()\n",
    "x_test_miss = x_test_nans[x_test_nans > 0]\n",
    "x_test_miss"
   ]
  },
  {
   "cell_type": "markdown",
   "metadata": {},
   "source": [
    "### Traitements des NaN"
   ]
  },
  {
   "cell_type": "code",
   "execution_count": 23,
   "metadata": {},
   "outputs": [],
   "source": [
    "# Provided method\n",
    "def drop_columns(train, test, display=False):\n",
    "    \"\"\"\n",
    "     Returns train and test dataset without columns containing NaN values\n",
    "     \n",
    "     Parameters:\n",
    "         train (dataframe)\n",
    "         test (dataframe)\n",
    "    \"\"\"\n",
    "    \n",
    "    # Get columns with NaN values\n",
    "    na_cols = set(train.columns[train.isna().any()]) | set(test.columns[test.isna().any()])\n",
    "    if display:\n",
    "        print(\"Removed columns :\", na_cols)\n",
    "    \n",
    "    # Retrun datasets without them\n",
    "    return (train.drop(columns=na_cols), test.drop(columns=na_cols))"
   ]
  },
  {
   "cell_type": "markdown",
   "metadata": {},
   "source": [
    "Proposez d'autre(s) stratégie(s) pour traiter le problème des NAN."
   ]
  },
  {
   "cell_type": "code",
   "execution_count": 24,
   "metadata": {},
   "outputs": [],
   "source": [
    "def drop_rows(train, test):\n",
    "    \"\"\"\n",
    "     Returns train and test dataset without rows containing NaN values\n",
    "     \n",
    "     Parameters:\n",
    "         train (dataframe):\n",
    "         test (dataframe):\n",
    "    \"\"\"\n",
    "    \n",
    "    return x_df.dropna(), x_test_df.dropna()    "
   ]
  },
  {
   "cell_type": "code",
   "execution_count": 25,
   "metadata": {},
   "outputs": [],
   "source": [
    "def fill_prev (train, test):\n",
    "    \"\"\"\n",
    "    Filling the cell containing NaN values with previous entry\n",
    "    \"\"\"\n",
    "    \n",
    "    na_cols = set(train.columns[train.isna().any()])\n",
    "    for col in na_cols:\n",
    "        train[col] = train[col].fillna(method='ffill').fillna(method='bfill')\n",
    "    na_cols =  set(test.columns[test.isna().any()])\n",
    "    for col in na_cols:\n",
    "        test[col] = test[col].fillna(method='ffill').fillna(method='bfill')\n",
    "    return train, test"
   ]
  },
  {
   "cell_type": "code",
   "execution_count": 26,
   "metadata": {},
   "outputs": [],
   "source": [
    "def fill_median (train, test):\n",
    "    \"\"\"\n",
    "    Filling the cell containing NaN values with column's median\n",
    "    \"\"\"\n",
    "    \n",
    "    na_cols = set(train.columns[train.isna().any()])\n",
    "    for col in na_cols:\n",
    "        median = train[col].median()\n",
    "        train[col].fillna(median, inplace=True)\n",
    "        \n",
    "    na_cols =  set(test.columns[test.isna().any()])\n",
    "    for col in na_cols:\n",
    "        median = test[col].median()\n",
    "        test[col].fillna(median, inplace=True)\n",
    "    return train, test"
   ]
  },
  {
   "cell_type": "markdown",
   "metadata": {},
   "source": [
    "### Evaluation des méthodes traitants les NaN"
   ]
  },
  {
   "cell_type": "code",
   "execution_count": 27,
   "metadata": {},
   "outputs": [],
   "source": [
    "def nan_values_method_evaluation(method):\n",
    "    \"\"\"\n",
    "    Evaluates and display metrics about method \n",
    "    \n",
    "    Parameters:\n",
    "         method (function): method dealing with NaN values\n",
    "    \"\"\"\n",
    "    \n",
    "    train, test = method(x_df, x_test_df)\n",
    "    \n",
    "    print(\"Train Dataset :\")\n",
    "    print(\"\\t\", \"Default shape :\", x_df.shape)\n",
    "    print(\"\\t\", \"Processed shape :\", train.shape)\n",
    "    print(\"\\t\", \"NaN values :\", train.isna().any().any())\n",
    "    \n",
    "    print(\"Test Dataset :\")\n",
    "    print(\"\\t\", \"Default shape :\", x_test_df.shape)\n",
    "    print(\"\\t\", \"Processed shape :\", test.shape)\n",
    "    print(\"\\t\", \"NaN values :\", test.isna().any().any())"
   ]
  },
  {
   "cell_type": "code",
   "execution_count": 28,
   "metadata": {
    "scrolled": true
   },
   "outputs": [
    {
     "name": "stdout",
     "output_type": "stream",
     "text": [
      "Method : drop_columns\n",
      "Train Dataset :\n",
      "\t Default shape : (79999, 337)\n",
      "\t Processed shape : (79999, 331)\n",
      "\t NaN values : False\n",
      "Test Dataset :\n",
      "\t Default shape : (20001, 337)\n",
      "\t Processed shape : (20001, 331)\n",
      "\t NaN values : False\n",
      "\n",
      "\n",
      "Method : drop_rows\n",
      "Train Dataset :\n",
      "\t Default shape : (79999, 337)\n",
      "\t Processed shape : (79986, 337)\n",
      "\t NaN values : False\n",
      "Test Dataset :\n",
      "\t Default shape : (20001, 337)\n",
      "\t Processed shape : (19996, 337)\n",
      "\t NaN values : False\n",
      "\n",
      "\n",
      "Method : fill_prev\n",
      "Train Dataset :\n",
      "\t Default shape : (79999, 337)\n",
      "\t Processed shape : (79999, 337)\n",
      "\t NaN values : False\n",
      "Test Dataset :\n",
      "\t Default shape : (20001, 337)\n",
      "\t Processed shape : (20001, 337)\n",
      "\t NaN values : False\n",
      "\n",
      "\n",
      "Method : fill_median\n",
      "Train Dataset :\n",
      "\t Default shape : (79999, 337)\n",
      "\t Processed shape : (79999, 337)\n",
      "\t NaN values : False\n",
      "Test Dataset :\n",
      "\t Default shape : (20001, 337)\n",
      "\t Processed shape : (20001, 337)\n",
      "\t NaN values : False\n",
      "\n",
      "\n"
     ]
    }
   ],
   "source": [
    "methods = [drop_columns, drop_rows, fill_prev, fill_median]\n",
    "\n",
    "for method in methods:\n",
    "    print(\"Method :\", method.__name__)\n",
    "    nan_values_method_evaluation(method)\n",
    "    print(\"\\n\")"
   ]
  },
  {
   "cell_type": "code",
   "execution_count": 29,
   "metadata": {},
   "outputs": [],
   "source": [
    "x_df, x_test_df = fill_median(x_df, x_test_df)"
   ]
  },
  {
   "cell_type": "markdown",
   "metadata": {},
   "source": [
    "### Domain Expertise"
   ]
  },
  {
   "cell_type": "markdown",
   "metadata": {},
   "source": [
    "Simplifier les données pour notamment regrouper les catégories rares."
   ]
  },
  {
   "cell_type": "code",
   "execution_count": 30,
   "metadata": {},
   "outputs": [],
   "source": [
    "def merge_rare_categories(dfs, col, keeps=None, keep_n=5):\n",
    "    if keeps is None:\n",
    "        keeps = x_df[col].value_counts()[:keep_n].index\n",
    "        print(keeps)\n",
    "\n",
    "    for df in dfs:\n",
    "        df.loc[~df[col].isin(keeps), col] = \"OTHER\""
   ]
  },
  {
   "cell_type": "code",
   "execution_count": 31,
   "metadata": {},
   "outputs": [
    {
     "name": "stdout",
     "output_type": "stream",
     "text": [
      "Index(['CATHOLIC', 'NOT_SPECIFIED', 'UNOBTAINABLE', 'PROTESTANT_QUAKER',\n",
      "       'JEWISH'],\n",
      "      dtype='object')\n",
      "CATHOLIC             7517\n",
      "NOT_SPECIFIED        3764\n",
      "OTHER                2449\n",
      "UNOBTAINABLE         2208\n",
      "PROTESTANT_QUAKER    2208\n",
      "JEWISH               1855\n",
      "Name: RELIGION, dtype: int64\n"
     ]
    }
   ],
   "source": [
    "merge_rare_categories([x_df, x_test_df], col=\"RELIGION\", keep_n=5)\n",
    "print(x_test_df[\"RELIGION\"].value_counts())"
   ]
  },
  {
   "cell_type": "markdown",
   "metadata": {},
   "source": [
    "#### Code : Effectuez des regrouppements de catégories rares pour d'autres variables si vous le jugez nécessaire"
   ]
  },
  {
   "cell_type": "markdown",
   "metadata": {},
   "source": [
    "Analyse de toutes les features ayant pour object pour type"
   ]
  },
  {
   "cell_type": "code",
   "execution_count": 32,
   "metadata": {
    "scrolled": true
   },
   "outputs": [
    {
     "name": "stdout",
     "output_type": "stream",
     "text": [
      "Feature LANGUAGE\n"
     ]
    },
    {
     "data": {
      "text/plain": [
       "ENGL    18883\n",
       "SPAN      258\n",
       "RUSS      151\n",
       "PTUN      147\n",
       "CANT       77\n",
       "PORT       69\n",
       "CAPE       43\n",
       "HAIT       41\n",
       "MAND       26\n",
       "ITAL       23\n",
       "VIET       21\n",
       "*CRE       18\n",
       "ARAB       14\n",
       "HIND       14\n",
       "GREE       13\n",
       "POLI       11\n",
       "AMER       11\n",
       "PERS       10\n",
       "ALBA        8\n",
       "*ARM        8\n",
       "CAMB        7\n",
       "KORE        7\n",
       "**SH        7\n",
       "ETHI        7\n",
       "BENG        7\n",
       "THAI        6\n",
       "JAPA        6\n",
       "*DEA        5\n",
       "TURK        5\n",
       "*AMH        5\n",
       "*ROM        4\n",
       "*_FU        4\n",
       "*NEP        4\n",
       "*CDI        4\n",
       "FREN        4\n",
       "LAOT        4\n",
       "SOMA        4\n",
       "*CHI        4\n",
       "*_BE        4\n",
       "*LEB        3\n",
       "*DUT        3\n",
       "*GUJ        3\n",
       "*BUL        3\n",
       "*FUL        3\n",
       "URDU        3\n",
       "*URD        3\n",
       "*BOS        3\n",
       "*CAN        3\n",
       "*IBO        2\n",
       "*KHM        2\n",
       "*TEL        2\n",
       "*YID        2\n",
       "*YOR        2\n",
       "*SPA        2\n",
       "**TO        2\n",
       "*FAR        2\n",
       "*LIT        2\n",
       "*BEN        2\n",
       "*PHI        2\n",
       "*TOI        2\n",
       "*BUR        1\n",
       "*TAM        1\n",
       "*RUS        1\n",
       "SERB        1\n",
       "*HUN        1\n",
       "*ARA        1\n",
       "Name: LANGUAGE, dtype: int64"
      ]
     },
     "metadata": {},
     "output_type": "display_data"
    },
    {
     "name": "stdout",
     "output_type": "stream",
     "text": [
      "\n",
      "\n",
      "Feature RELIGION\n"
     ]
    },
    {
     "data": {
      "text/plain": [
       "CATHOLIC             7517\n",
       "NOT_SPECIFIED        3764\n",
       "OTHER                2449\n",
       "UNOBTAINABLE         2208\n",
       "PROTESTANT_QUAKER    2208\n",
       "JEWISH               1855\n",
       "Name: RELIGION, dtype: int64"
      ]
     },
     "metadata": {},
     "output_type": "display_data"
    },
    {
     "name": "stdout",
     "output_type": "stream",
     "text": [
      "\n",
      "\n",
      "Feature MARITAL_STATUS\n"
     ]
    },
    {
     "data": {
      "text/plain": [
       "MARRIED              10856\n",
       "SINGLE                4635\n",
       "WIDOWED               2400\n",
       "DIVORCED              1217\n",
       "UNKNOWN_(DEFAULT)      497\n",
       "SEPARATED              301\n",
       "LIFE_PARTNER            95\n",
       "Name: MARITAL_STATUS, dtype: int64"
      ]
     },
     "metadata": {},
     "output_type": "display_data"
    },
    {
     "name": "stdout",
     "output_type": "stream",
     "text": [
      "\n",
      "\n",
      "Feature ETHNICITY\n"
     ]
    },
    {
     "data": {
      "text/plain": [
       "WHITE                                         14930\n",
       "UNKNOWN/NOT_SPECIFIED                          1088\n",
       "BLACK/AFRICAN_AMERICAN                          930\n",
       "OTHER                                           406\n",
       "UNABLE_TO_OBTAIN                                380\n",
       "HISPANIC_OR_LATINO                              377\n",
       "ASIAN                                           354\n",
       "PATIENT_DECLINED_TO_ANSWER                      264\n",
       "ASIAN_-_CHINESE                                 144\n",
       "BLACK/CAPE_VERDEAN                              112\n",
       "HISPANIC/LATINO_-_PUERTO_RICAN                  111\n",
       "WHITE_-_RUSSIAN                                  99\n",
       "WHITE_-_OTHER_EUROPEAN                           70\n",
       "HISPANIC/LATINO_-_DOMINICAN                      68\n",
       "BLACK/HAITIAN                                    60\n",
       "MULTI_RACE_ETHNICITY                             60\n",
       "ASIAN_-_VIETNAMESE                               56\n",
       "ASIAN_-_ASIAN_INDIAN                             51\n",
       "WHITE_-_BRAZILIAN                                46\n",
       "BLACK/AFRICAN                                    37\n",
       "AMERICAN_INDIAN/ALASKA_NATIVE                    33\n",
       "PORTUGUESE                                       32\n",
       "HISPANIC/LATINO_-_GUATEMALAN                     31\n",
       "MIDDLE_EASTERN                                   31\n",
       "WHITE_-_EASTERN_EUROPEAN                         26\n",
       "HISPANIC/LATINO_-_COLOMBIAN                      25\n",
       "NATIVE_HAWAIIAN_OR_OTHER_PACIFIC_ISLANDER        23\n",
       "HISPANIC/LATINO_-_CUBAN                          22\n",
       "ASIAN_-_OTHER                                    21\n",
       "ASIAN_-_KOREAN                                   18\n",
       "ASIAN_-_FILIPINO                                 18\n",
       "HISPANIC/LATINO_-_CENTRAL_AMERICAN_(OTHER)       16\n",
       "HISPANIC/LATINO_-_MEXICAN                        15\n",
       "ASIAN_-_CAMBODIAN                                11\n",
       "HISPANIC/LATINO_-_SALVADORAN                     11\n",
       "SOUTH_AMERICAN                                   10\n",
       "ASIAN_-_JAPANESE                                  8\n",
       "CARIBBEAN_ISLAND                                  5\n",
       "ASIAN_-_THAI                                      2\n",
       "Name: ETHNICITY, dtype: int64"
      ]
     },
     "metadata": {},
     "output_type": "display_data"
    },
    {
     "name": "stdout",
     "output_type": "stream",
     "text": [
      "\n",
      "\n"
     ]
    }
   ],
   "source": [
    "# Get Index of features name that have an \"object\" datatype\n",
    "char_cols = x_df.dtypes.pipe(lambda x: x[x == \"object\"]).index\n",
    "\n",
    "for feature in char_cols.values:\n",
    "    \n",
    "    # Number of possible values for feature\n",
    "    number_of_possible_values = len(x_test_df[feature].value_counts().keys())\n",
    "    \n",
    "    # If the number of possible values is greater than 5, then display all possible values for this feature\n",
    "    if number_of_possible_values > 5:\n",
    "        print(\"Feature\", feature)\n",
    "        with pd.option_context('display.max_rows', None, 'display.max_columns', None):\n",
    "            display(x_test_df[feature].value_counts())\n",
    "        print(\"\\n\")"
   ]
  },
  {
   "cell_type": "code",
   "execution_count": 33,
   "metadata": {},
   "outputs": [
    {
     "name": "stdout",
     "output_type": "stream",
     "text": [
      "Total speakers : 20001\n",
      "English speakers : 18883\n",
      "Non english speakers : 1117\n",
      "English speakers percentage : 94.4102794860257\n"
     ]
    }
   ],
   "source": [
    "# Display metrices about english speakers\n",
    "print(\"Total speakers :\", sum(x_test_df[\"LANGUAGE\"].value_counts()))\n",
    "print(\"English speakers :\", x_test_df[\"LANGUAGE\"].value_counts().values[0])\n",
    "print(\"Non english speakers :\", sum(x_test_df[\"LANGUAGE\"].value_counts().values[1:-1]))\n",
    "print(\"English speakers percentage :\", x_test_df[\"LANGUAGE\"].value_counts().values[0] / sum(x_test_df[\"LANGUAGE\"].value_counts()) * 100)"
   ]
  },
  {
   "cell_type": "markdown",
   "metadata": {},
   "source": [
    "<span style=\"color:red\">\n",
    "    Utiliser des cellules markdown pour ajouter des commentaires\n",
    "</span>"
   ]
  },
  {
   "cell_type": "markdown",
   "metadata": {},
   "source": [
    "Au vu du pourcentage élevé d'anglophones, il n'est pas idiots de réduire le champs des possibles de notre feature \"LANGUAGE\" à 2 options, anglpphone ou non anglophone."
   ]
  },
  {
   "cell_type": "code",
   "execution_count": 34,
   "metadata": {},
   "outputs": [
    {
     "name": "stdout",
     "output_type": "stream",
     "text": [
      "Index(['ENGL', 'SPAN'], dtype='object')\n",
      "ENGL     18883\n",
      "OTHER      860\n",
      "SPAN       258\n",
      "Name: LANGUAGE, dtype: int64\n"
     ]
    }
   ],
   "source": [
    "merge_rare_categories([x_df, x_test_df], col=\"LANGUAGE\", keep_n=2)\n",
    "print(x_test_df[\"LANGUAGE\"].value_counts())"
   ]
  },
  {
   "cell_type": "code",
   "execution_count": 35,
   "metadata": {},
   "outputs": [],
   "source": [
    "# TODO : ETHNICITY, maybe idk."
   ]
  },
  {
   "cell_type": "markdown",
   "metadata": {},
   "source": [
    "### Transformation des données catégorielles en nombres entiers en utilisant deux type d'encodage\n",
    "\n",
    "Les variables catégorielles sont présentées sous forme de chaines de caractères. La plupart des modèles ne pourront pas les prendre en entrée.\n",
    "\n",
    "Deux des méthodes les plus simples sont `LabelEncoder` de Scikit-Learn et `factorize` de pandas. Elles consistent simplement à remplacer chaque nouvelle catégorie rencontrée par un entier, en commençant par 0. Ce n'est cependant peut-être pas la méthode la plus efficace, car elle présuppose une proximité entre la catégories de valeurs proches."
   ]
  },
  {
   "cell_type": "code",
   "execution_count": 36,
   "metadata": {},
   "outputs": [],
   "source": [
    "def label_encode(df, other_df, only_binary=False):\n",
    "\n",
    "    char_cols = df.dtypes.pipe(lambda x: x[x == \"object\"]).index\n",
    "    # print(char_cols)\n",
    "\n",
    "    for col in char_cols:\n",
    "        n_categories = len(x_df[col].unique())\n",
    "\n",
    "        if not only_binary or n_categories == 2:\n",
    "            codes, uniques = pd.factorize(df[col])\n",
    "            df[col] = codes\n",
    "\n",
    "            # Create conversion dic to convert values of test set as well\n",
    "            cat2code = {k: v for v, k in enumerate(uniques)}\n",
    "            other_df[col] = other_df[col].map(cat2code)"
   ]
  },
  {
   "cell_type": "code",
   "execution_count": 37,
   "metadata": {},
   "outputs": [
    {
     "data": {
      "text/html": [
       "<div>\n",
       "<style scoped>\n",
       "    .dataframe tbody tr th:only-of-type {\n",
       "        vertical-align: middle;\n",
       "    }\n",
       "\n",
       "    .dataframe tbody tr th {\n",
       "        vertical-align: top;\n",
       "    }\n",
       "\n",
       "    .dataframe thead th {\n",
       "        text-align: right;\n",
       "    }\n",
       "</style>\n",
       "<table border=\"1\" class=\"dataframe\">\n",
       "  <thead>\n",
       "    <tr style=\"text-align: right;\">\n",
       "      <th></th>\n",
       "      <th>INSURANCE</th>\n",
       "      <th>LANGUAGE</th>\n",
       "      <th>RELIGION</th>\n",
       "      <th>MARITAL_STATUS</th>\n",
       "      <th>ETHNICITY</th>\n",
       "      <th>GENDER</th>\n",
       "      <th>AGE</th>\n",
       "      <th>HR_MIN_DAY1</th>\n",
       "      <th>HR_MAX_DAY1</th>\n",
       "      <th>HR_MEAN_DAY1</th>\n",
       "      <th>...</th>\n",
       "      <th>Eyeinfectn</th>\n",
       "      <th>Othereyedx</th>\n",
       "      <th>Otitismedia</th>\n",
       "      <th>Dizziness</th>\n",
       "      <th>Othereardx</th>\n",
       "      <th>Othnervdx</th>\n",
       "      <th>Hrtvalvedx</th>\n",
       "      <th>Carditis</th>\n",
       "      <th>HTN</th>\n",
       "      <th>Htncomplicn</th>\n",
       "    </tr>\n",
       "  </thead>\n",
       "  <tbody>\n",
       "    <tr>\n",
       "      <th>0</th>\n",
       "      <td>Private</td>\n",
       "      <td>ENGL</td>\n",
       "      <td>CATHOLIC</td>\n",
       "      <td>DIVORCED</td>\n",
       "      <td>WHITE</td>\n",
       "      <td>F</td>\n",
       "      <td>21</td>\n",
       "      <td>57.21</td>\n",
       "      <td>108.7</td>\n",
       "      <td>70.84</td>\n",
       "      <td>...</td>\n",
       "      <td>0</td>\n",
       "      <td>0</td>\n",
       "      <td>0</td>\n",
       "      <td>0</td>\n",
       "      <td>0</td>\n",
       "      <td>0</td>\n",
       "      <td>0</td>\n",
       "      <td>0</td>\n",
       "      <td>0</td>\n",
       "      <td>0</td>\n",
       "    </tr>\n",
       "    <tr>\n",
       "      <th>1</th>\n",
       "      <td>Private</td>\n",
       "      <td>ENGL</td>\n",
       "      <td>UNOBTAINABLE</td>\n",
       "      <td>SINGLE</td>\n",
       "      <td>WHITE</td>\n",
       "      <td>M</td>\n",
       "      <td>39</td>\n",
       "      <td>79.33</td>\n",
       "      <td>121.1</td>\n",
       "      <td>96.92</td>\n",
       "      <td>...</td>\n",
       "      <td>0</td>\n",
       "      <td>0</td>\n",
       "      <td>0</td>\n",
       "      <td>0</td>\n",
       "      <td>0</td>\n",
       "      <td>0</td>\n",
       "      <td>0</td>\n",
       "      <td>0</td>\n",
       "      <td>0</td>\n",
       "      <td>1</td>\n",
       "    </tr>\n",
       "    <tr>\n",
       "      <th>2</th>\n",
       "      <td>Medicaid</td>\n",
       "      <td>SPAN</td>\n",
       "      <td>CATHOLIC</td>\n",
       "      <td>WIDOWED</td>\n",
       "      <td>OTHER</td>\n",
       "      <td>M</td>\n",
       "      <td>40</td>\n",
       "      <td>118.2</td>\n",
       "      <td>175.2</td>\n",
       "      <td>140.9</td>\n",
       "      <td>...</td>\n",
       "      <td>0</td>\n",
       "      <td>0</td>\n",
       "      <td>0</td>\n",
       "      <td>0</td>\n",
       "      <td>0</td>\n",
       "      <td>0</td>\n",
       "      <td>0</td>\n",
       "      <td>0</td>\n",
       "      <td>0</td>\n",
       "      <td>0</td>\n",
       "    </tr>\n",
       "  </tbody>\n",
       "</table>\n",
       "<p>3 rows × 337 columns</p>\n",
       "</div>"
      ],
      "text/plain": [
       "  INSURANCE LANGUAGE      RELIGION MARITAL_STATUS ETHNICITY GENDER  AGE  \\\n",
       "0   Private     ENGL      CATHOLIC       DIVORCED     WHITE      F   21   \n",
       "1   Private     ENGL  UNOBTAINABLE         SINGLE     WHITE      M   39   \n",
       "2  Medicaid     SPAN      CATHOLIC        WIDOWED     OTHER      M   40   \n",
       "\n",
       "   HR_MIN_DAY1  HR_MAX_DAY1  HR_MEAN_DAY1  ...  Eyeinfectn  Othereyedx  \\\n",
       "0        57.21        108.7         70.84  ...           0           0   \n",
       "1        79.33        121.1         96.92  ...           0           0   \n",
       "2        118.2        175.2         140.9  ...           0           0   \n",
       "\n",
       "   Otitismedia  Dizziness  Othereardx  Othnervdx  Hrtvalvedx  Carditis  HTN  \\\n",
       "0            0          0           0          0           0         0    0   \n",
       "1            0          0           0          0           0         0    0   \n",
       "2            0          0           0          0           0         0    0   \n",
       "\n",
       "   Htncomplicn  \n",
       "0            0  \n",
       "1            1  \n",
       "2            0  \n",
       "\n",
       "[3 rows x 337 columns]"
      ]
     },
     "execution_count": 37,
     "metadata": {},
     "output_type": "execute_result"
    }
   ],
   "source": [
    "x_df.head(3)"
   ]
  },
  {
   "cell_type": "code",
   "execution_count": 38,
   "metadata": {},
   "outputs": [
    {
     "name": "stdout",
     "output_type": "stream",
     "text": [
      "(79999, 337) (79999,)\n"
     ]
    }
   ],
   "source": [
    "print(x_df.shape, ys.shape)"
   ]
  },
  {
   "cell_type": "code",
   "execution_count": 39,
   "metadata": {},
   "outputs": [],
   "source": [
    "x_fact_df = x_df.copy()\n",
    "x_test_fact_df = x_test_df.copy()\n",
    "\n",
    "label_encode(x_fact_df, x_test_fact_df)"
   ]
  },
  {
   "cell_type": "code",
   "execution_count": 40,
   "metadata": {},
   "outputs": [
    {
     "data": {
      "text/html": [
       "<div>\n",
       "<style scoped>\n",
       "    .dataframe tbody tr th:only-of-type {\n",
       "        vertical-align: middle;\n",
       "    }\n",
       "\n",
       "    .dataframe tbody tr th {\n",
       "        vertical-align: top;\n",
       "    }\n",
       "\n",
       "    .dataframe thead th {\n",
       "        text-align: right;\n",
       "    }\n",
       "</style>\n",
       "<table border=\"1\" class=\"dataframe\">\n",
       "  <thead>\n",
       "    <tr style=\"text-align: right;\">\n",
       "      <th></th>\n",
       "      <th>INSURANCE</th>\n",
       "      <th>LANGUAGE</th>\n",
       "      <th>RELIGION</th>\n",
       "      <th>MARITAL_STATUS</th>\n",
       "      <th>ETHNICITY</th>\n",
       "      <th>GENDER</th>\n",
       "      <th>AGE</th>\n",
       "      <th>HR_MIN_DAY1</th>\n",
       "      <th>HR_MAX_DAY1</th>\n",
       "      <th>HR_MEAN_DAY1</th>\n",
       "      <th>...</th>\n",
       "      <th>Eyeinfectn</th>\n",
       "      <th>Othereyedx</th>\n",
       "      <th>Otitismedia</th>\n",
       "      <th>Dizziness</th>\n",
       "      <th>Othereardx</th>\n",
       "      <th>Othnervdx</th>\n",
       "      <th>Hrtvalvedx</th>\n",
       "      <th>Carditis</th>\n",
       "      <th>HTN</th>\n",
       "      <th>Htncomplicn</th>\n",
       "    </tr>\n",
       "  </thead>\n",
       "  <tbody>\n",
       "    <tr>\n",
       "      <th>0</th>\n",
       "      <td>0</td>\n",
       "      <td>0</td>\n",
       "      <td>0</td>\n",
       "      <td>0</td>\n",
       "      <td>0</td>\n",
       "      <td>0</td>\n",
       "      <td>21</td>\n",
       "      <td>57.21</td>\n",
       "      <td>108.7</td>\n",
       "      <td>70.84</td>\n",
       "      <td>...</td>\n",
       "      <td>0</td>\n",
       "      <td>0</td>\n",
       "      <td>0</td>\n",
       "      <td>0</td>\n",
       "      <td>0</td>\n",
       "      <td>0</td>\n",
       "      <td>0</td>\n",
       "      <td>0</td>\n",
       "      <td>0</td>\n",
       "      <td>0</td>\n",
       "    </tr>\n",
       "    <tr>\n",
       "      <th>1</th>\n",
       "      <td>0</td>\n",
       "      <td>0</td>\n",
       "      <td>1</td>\n",
       "      <td>1</td>\n",
       "      <td>0</td>\n",
       "      <td>1</td>\n",
       "      <td>39</td>\n",
       "      <td>79.33</td>\n",
       "      <td>121.1</td>\n",
       "      <td>96.92</td>\n",
       "      <td>...</td>\n",
       "      <td>0</td>\n",
       "      <td>0</td>\n",
       "      <td>0</td>\n",
       "      <td>0</td>\n",
       "      <td>0</td>\n",
       "      <td>0</td>\n",
       "      <td>0</td>\n",
       "      <td>0</td>\n",
       "      <td>0</td>\n",
       "      <td>1</td>\n",
       "    </tr>\n",
       "    <tr>\n",
       "      <th>2</th>\n",
       "      <td>1</td>\n",
       "      <td>1</td>\n",
       "      <td>0</td>\n",
       "      <td>2</td>\n",
       "      <td>1</td>\n",
       "      <td>1</td>\n",
       "      <td>40</td>\n",
       "      <td>118.2</td>\n",
       "      <td>175.2</td>\n",
       "      <td>140.9</td>\n",
       "      <td>...</td>\n",
       "      <td>0</td>\n",
       "      <td>0</td>\n",
       "      <td>0</td>\n",
       "      <td>0</td>\n",
       "      <td>0</td>\n",
       "      <td>0</td>\n",
       "      <td>0</td>\n",
       "      <td>0</td>\n",
       "      <td>0</td>\n",
       "      <td>0</td>\n",
       "    </tr>\n",
       "  </tbody>\n",
       "</table>\n",
       "<p>3 rows × 337 columns</p>\n",
       "</div>"
      ],
      "text/plain": [
       "   INSURANCE  LANGUAGE  RELIGION  MARITAL_STATUS  ETHNICITY  GENDER  AGE  \\\n",
       "0          0         0         0               0          0       0   21   \n",
       "1          0         0         1               1          0       1   39   \n",
       "2          1         1         0               2          1       1   40   \n",
       "\n",
       "   HR_MIN_DAY1  HR_MAX_DAY1  HR_MEAN_DAY1  ...  Eyeinfectn  Othereyedx  \\\n",
       "0        57.21        108.7         70.84  ...           0           0   \n",
       "1        79.33        121.1         96.92  ...           0           0   \n",
       "2        118.2        175.2         140.9  ...           0           0   \n",
       "\n",
       "   Otitismedia  Dizziness  Othereardx  Othnervdx  Hrtvalvedx  Carditis  HTN  \\\n",
       "0            0          0           0          0           0         0    0   \n",
       "1            0          0           0          0           0         0    0   \n",
       "2            0          0           0          0           0         0    0   \n",
       "\n",
       "   Htncomplicn  \n",
       "0            0  \n",
       "1            1  \n",
       "2            0  \n",
       "\n",
       "[3 rows x 337 columns]"
      ]
     },
     "execution_count": 40,
     "metadata": {},
     "output_type": "execute_result"
    }
   ],
   "source": [
    "x_fact_df.head(3)"
   ]
  },
  {
   "cell_type": "code",
   "execution_count": 41,
   "metadata": {},
   "outputs": [
    {
     "data": {
      "text/html": [
       "<div>\n",
       "<style scoped>\n",
       "    .dataframe tbody tr th:only-of-type {\n",
       "        vertical-align: middle;\n",
       "    }\n",
       "\n",
       "    .dataframe tbody tr th {\n",
       "        vertical-align: top;\n",
       "    }\n",
       "\n",
       "    .dataframe thead th {\n",
       "        text-align: right;\n",
       "    }\n",
       "</style>\n",
       "<table border=\"1\" class=\"dataframe\">\n",
       "  <thead>\n",
       "    <tr style=\"text-align: right;\">\n",
       "      <th></th>\n",
       "      <th>INSURANCE</th>\n",
       "      <th>LANGUAGE</th>\n",
       "      <th>RELIGION</th>\n",
       "      <th>MARITAL_STATUS</th>\n",
       "      <th>ETHNICITY</th>\n",
       "      <th>GENDER</th>\n",
       "      <th>AGE</th>\n",
       "      <th>HR_MIN_DAY1</th>\n",
       "      <th>HR_MAX_DAY1</th>\n",
       "      <th>HR_MEAN_DAY1</th>\n",
       "      <th>...</th>\n",
       "      <th>Eyeinfectn</th>\n",
       "      <th>Othereyedx</th>\n",
       "      <th>Otitismedia</th>\n",
       "      <th>Dizziness</th>\n",
       "      <th>Othereardx</th>\n",
       "      <th>Othnervdx</th>\n",
       "      <th>Hrtvalvedx</th>\n",
       "      <th>Carditis</th>\n",
       "      <th>HTN</th>\n",
       "      <th>Htncomplicn</th>\n",
       "    </tr>\n",
       "  </thead>\n",
       "  <tbody>\n",
       "    <tr>\n",
       "      <th>0</th>\n",
       "      <td>3</td>\n",
       "      <td>0</td>\n",
       "      <td>5</td>\n",
       "      <td>3</td>\n",
       "      <td>0</td>\n",
       "      <td>0</td>\n",
       "      <td>18</td>\n",
       "      <td>72.64</td>\n",
       "      <td>112.7</td>\n",
       "      <td>96.46</td>\n",
       "      <td>...</td>\n",
       "      <td>0</td>\n",
       "      <td>0</td>\n",
       "      <td>0</td>\n",
       "      <td>0</td>\n",
       "      <td>0</td>\n",
       "      <td>0</td>\n",
       "      <td>0</td>\n",
       "      <td>0</td>\n",
       "      <td>0</td>\n",
       "      <td>0</td>\n",
       "    </tr>\n",
       "    <tr>\n",
       "      <th>1</th>\n",
       "      <td>2</td>\n",
       "      <td>0</td>\n",
       "      <td>2</td>\n",
       "      <td>1</td>\n",
       "      <td>4</td>\n",
       "      <td>0</td>\n",
       "      <td>56</td>\n",
       "      <td>66.61</td>\n",
       "      <td>106.8</td>\n",
       "      <td>83.85</td>\n",
       "      <td>...</td>\n",
       "      <td>0</td>\n",
       "      <td>0</td>\n",
       "      <td>0</td>\n",
       "      <td>0</td>\n",
       "      <td>0</td>\n",
       "      <td>0</td>\n",
       "      <td>0</td>\n",
       "      <td>0</td>\n",
       "      <td>1</td>\n",
       "      <td>0</td>\n",
       "    </tr>\n",
       "    <tr>\n",
       "      <th>2</th>\n",
       "      <td>1</td>\n",
       "      <td>0</td>\n",
       "      <td>0</td>\n",
       "      <td>1</td>\n",
       "      <td>0</td>\n",
       "      <td>1</td>\n",
       "      <td>32</td>\n",
       "      <td>69.72</td>\n",
       "      <td>102.7</td>\n",
       "      <td>87.26</td>\n",
       "      <td>...</td>\n",
       "      <td>0</td>\n",
       "      <td>0</td>\n",
       "      <td>0</td>\n",
       "      <td>0</td>\n",
       "      <td>0</td>\n",
       "      <td>0</td>\n",
       "      <td>0</td>\n",
       "      <td>0</td>\n",
       "      <td>0</td>\n",
       "      <td>0</td>\n",
       "    </tr>\n",
       "  </tbody>\n",
       "</table>\n",
       "<p>3 rows × 337 columns</p>\n",
       "</div>"
      ],
      "text/plain": [
       "   INSURANCE  LANGUAGE  RELIGION  MARITAL_STATUS  ETHNICITY  GENDER  AGE  \\\n",
       "0          3         0         5               3          0       0   18   \n",
       "1          2         0         2               1          4       0   56   \n",
       "2          1         0         0               1          0       1   32   \n",
       "\n",
       "   HR_MIN_DAY1  HR_MAX_DAY1  HR_MEAN_DAY1  ...  Eyeinfectn  Othereyedx  \\\n",
       "0        72.64        112.7         96.46  ...           0           0   \n",
       "1        66.61        106.8         83.85  ...           0           0   \n",
       "2        69.72        102.7         87.26  ...           0           0   \n",
       "\n",
       "   Otitismedia  Dizziness  Othereardx  Othnervdx  Hrtvalvedx  Carditis  HTN  \\\n",
       "0            0          0           0          0           0         0    0   \n",
       "1            0          0           0          0           0         0    1   \n",
       "2            0          0           0          0           0         0    0   \n",
       "\n",
       "   Htncomplicn  \n",
       "0            0  \n",
       "1            0  \n",
       "2            0  \n",
       "\n",
       "[3 rows x 337 columns]"
      ]
     },
     "execution_count": 41,
     "metadata": {},
     "output_type": "execute_result"
    }
   ],
   "source": [
    "x_test_fact_df.head(3)"
   ]
  },
  {
   "cell_type": "markdown",
   "metadata": {},
   "source": [
    "### Encodage 1-Hot\n",
    "\n",
    "Un autre type d'encodage est souvent plus efficace, il a notamment l'avantage de ne pas ordonner les classes d'une manière particulière (pas forcément en adéquation avec la proximité de ces classes entre elles).\n",
    "\n",
    "Une méthode de pandas permet de le réaliser en 1 ligne de code."
   ]
  },
  {
   "cell_type": "code",
   "execution_count": 42,
   "metadata": {},
   "outputs": [
    {
     "data": {
      "text/plain": [
       "{'CATHOLIC': 0,\n",
       " 'UNOBTAINABLE': 1,\n",
       " 'NOT_SPECIFIED': 2,\n",
       " 'JEWISH': 3,\n",
       " 'PROTESTANT_QUAKER': 4,\n",
       " 'OTHER': 5}"
      ]
     },
     "execution_count": 42,
     "metadata": {},
     "output_type": "execute_result"
    }
   ],
   "source": [
    "codes, uniques = pd.factorize(x_df[\"RELIGION\"])\n",
    "cat2code = {k: v for v, k in enumerate(uniques)}\n",
    "cat2code"
   ]
  },
  {
   "cell_type": "markdown",
   "metadata": {},
   "source": [
    "Exemple d'encodage 1-hot avec la fonction `get_dummies` de pandas (pour MARITAL_STATUS) :\n",
    "\n",
    "|    |   DIVORCED |   LIFE_PARTNER |   MARRIED |   SEPARATED |   SINGLE |   UNKNOWN_(DEFAULT) |   WIDOWED |\n",
    "|---:|-----------:|---------------:|----------:|------------:|---------:|--------------------:|----------:|\n",
    "|  0 |          1 |              0 |         0 |           0 |        0 |                   0 |         0 |\n",
    "|  1 |          0 |              0 |         0 |           0 |        1 |                   0 |         0 |\n",
    "|  2 |          0 |              0 |         0 |           0 |        0 |                   0 |         1 |\n",
    "|  3 |          0 |              0 |         1 |           0 |        0 |                   0 |         0 |\n",
    "|  4 |          0 |              0 |         1 |           0 |        0 |                   0 |         0 |"
   ]
  },
  {
   "cell_type": "code",
   "execution_count": 43,
   "metadata": {},
   "outputs": [
    {
     "name": "stdout",
     "output_type": "stream",
     "text": [
      "(79999, 337) (20001, 337)\n",
      "(79999, 399) (20001, 399)\n"
     ]
    }
   ],
   "source": [
    "# 1-Hot enconding\n",
    "x_all_1hot_df = pd.get_dummies(pd.concat([x_df, x_test_df]))\n",
    "\n",
    "x_1hot_df = x_all_1hot_df[: len(x_df)]\n",
    "x_test_1hot_df = x_all_1hot_df[len(x_df) :]\n",
    "\n",
    "print(x_df.shape, x_test_df.shape)\n",
    "print(x_1hot_df.shape, x_test_1hot_df.shape)"
   ]
  },
  {
   "cell_type": "markdown",
   "metadata": {},
   "source": [
    "<span style=\"color:red\">\n",
    "    Utiliser des cellules markdown pour ajouter des commentaires\n",
    "</span>"
   ]
  },
  {
   "cell_type": "markdown",
   "metadata": {},
   "source": [
    "On a donc 99-37=62 nouvelles features après l'encodage 1-hot. On va vérifier que c'est bien cohérent."
   ]
  },
  {
   "cell_type": "code",
   "execution_count": 44,
   "metadata": {},
   "outputs": [
    {
     "name": "stdout",
     "output_type": "stream",
     "text": [
      "INSURANCE 5\n",
      "LANGUAGE 3\n",
      "RELIGION 6\n",
      "MARITAL_STATUS 7\n",
      "ETHNICITY 41\n",
      "GENDER 2\n",
      "ICU 5\n",
      "TOTAL 69\n"
     ]
    }
   ],
   "source": [
    "dummies_counter = 0\n",
    "# Get all categorical variables (object types)\n",
    "object_cols = x_df.dtypes.pipe(lambda x: x[x == \"object\"]).index\n",
    "\n",
    "# For each categorical variables, display the number of new variables created by the 1-Hot encoding\n",
    "for col in object_cols:\n",
    "    dummies = pd.get_dummies(x_df[col])\n",
    "    new_columns = len(dummies.columns)\n",
    "    dummies_counter += new_columns\n",
    "    print(col, new_columns)\n",
    "\n",
    "print(\"TOTAL\", dummies_counter)"
   ]
  },
  {
   "cell_type": "markdown",
   "metadata": {},
   "source": [
    "<span style=\"color:red\">\n",
    "    Utiliser des cellules markdown pour ajouter des commentaires\n",
    "</span>"
   ]
  },
  {
   "cell_type": "markdown",
   "metadata": {},
   "source": [
    "On a donc un total de 69 features qui sont générées via l'encodage 1-Hot. On doit donc avoir :\n",
    "* +337 features orginales \n",
    "* +69 features générées via l'encodage 1-hot\n",
    "* -7 features encodé via 1-hot (à savoir nos features de type object : \"INSURANCE \", \"LANGUAGE\", ...)\n",
    "* =399\n",
    "\n",
    "Le compte est bon."
   ]
  },
  {
   "cell_type": "markdown",
   "metadata": {},
   "source": [
    "### Création de l'ensemble de validation"
   ]
  },
  {
   "cell_type": "code",
   "execution_count": 45,
   "metadata": {},
   "outputs": [],
   "source": [
    "x_train, x_valid, y_train, y_valid = model_selection.train_test_split(\n",
    "    x_1hot_df, ys, test_size=0.3\n",
    ")\n",
    "# VARS: x_df, x_fact_df, x_1hot_df"
   ]
  },
  {
   "cell_type": "markdown",
   "metadata": {},
   "source": [
    "#### PCA"
   ]
  },
  {
   "cell_type": "markdown",
   "metadata": {},
   "source": [
    "Testez la PCA pour réduire le nombre de dimensions et voir si cela améliore le résultat.\n",
    "\n",
    "Avant d'appliquer la PCA, il est conseillé de centrer-réduire les données (e.g., via `preprocessing.StandardScaler()`)."
   ]
  },
  {
   "cell_type": "markdown",
   "metadata": {},
   "source": [
    "<span style=\"color:red\">\n",
    "    Répondre ci-dessous\n",
    "</span>"
   ]
  },
  {
   "cell_type": "code",
   "execution_count": 47,
   "metadata": {},
   "outputs": [],
   "source": [
    "from sklearn.preprocessing import StandardScaler, MinMaxScaler\n",
    "\n",
    "def standardize(x_train, x_valid):\n",
    "    \n",
    "    scaler = preprocessing.StandardScaler()\n",
    "    x_train = scaler.fit_transform(x_train)\n",
    "    \n",
    "    scaler = preprocessing.StandardScaler()\n",
    "    x_valid = scaler.fit_transform(x_valid)\n",
    "    \n",
    "    return x_train, x_valid\n",
    "\n",
    "\n",
    "def normalize(x_train, x_valid):\n",
    "    \n",
    "    scaler = preprocessing.MinMaxScaler()\n",
    "    x_train = scaler.fit_transform(x_train)\n",
    "    \n",
    "    scaler = preprocessing.MinMaxScaler()\n",
    "    x_valid = scaler.fit_transform(x_valid)\n",
    "    \n",
    "    return x_train, x_valid   \n",
    "    \n",
    "    \n",
    "def pca(n_components, x_train, x_valid):\n",
    "        \n",
    "    pca = decomposition.PCA(n_components=n_components)\n",
    "    x_train = pca.fit_transform(x_train)\n",
    "    x_valid = pca.fit_transform(x_valid)\n",
    "    \n",
    "    return x_train, x_valid"
   ]
  },
  {
   "cell_type": "code",
   "execution_count": 48,
   "metadata": {},
   "outputs": [],
   "source": [
    "X_train, X_valid = normalize(x_train, x_valid)\n",
    "X_train, X_valid = pca(100, X_train, X_valid)"
   ]
  },
  {
   "cell_type": "markdown",
   "metadata": {},
   "source": [
    "Proposez un graphique qui représente les 2 premières dimensions de la PCA et commentez succinctement."
   ]
  },
  {
   "cell_type": "markdown",
   "metadata": {},
   "source": [
    "<span style=\"color:red\">\n",
    "    Répondre ci-dessous\n",
    "</span>"
   ]
  },
  {
   "cell_type": "code",
   "execution_count": 49,
   "metadata": {},
   "outputs": [
    {
     "data": {
      "image/png": "[encoded data removed]",
      "text/plain": [
       "<Figure size 432x288 with 1 Axes>"
      ]
     },
     "metadata": {
      "image/png": {
       "height": 249,
       "width": 386
      },
      "needs_background": "light"
     },
     "output_type": "display_data"
    }
   ],
   "source": [
    "plt.plot(X_train[0])\n",
    "plt.plot(X_train[1])\n",
    "plt.show()"
   ]
  },
  {
   "cell_type": "markdown",
   "metadata": {},
   "source": [
    "<span style=\"color:red\">\n",
    "    Utiliser des cellules markdown pour ajouter des commentaires\n",
    "</span>"
   ]
  },
  {
   "cell_type": "markdown",
   "metadata": {},
   "source": [
    "Même si c'est 2 features ne représentent rien (et donc on ne peut pas analyser leurs valeurs), on remarque que les 2 features sont bien normalisées"
   ]
  },
  {
   "cell_type": "markdown",
   "metadata": {},
   "source": [
    "## <a id=\"5\">5. Modèles de classification</a>\n",
    "\n",
    "Entrainez le modèle"
   ]
  },
  {
   "cell_type": "markdown",
   "metadata": {},
   "source": [
    "### Baseline\n",
    "\n",
    "`LogisticRegression` or `RandomForestClassifier`"
   ]
  },
  {
   "cell_type": "code",
   "execution_count": 50,
   "metadata": {},
   "outputs": [
    {
     "name": "stdout",
     "output_type": "stream",
     "text": [
      "Process PCA and Predict :\n",
      "Logistic Regression : 56.9956 seconds\n",
      "Decision Tree : 289.1198 seconds\n",
      "Random Forest : 153.1204 seconds\n",
      "KNeighbors : 338.5509 seconds\n"
     ]
    },
    {
     "name": "stderr",
     "output_type": "stream",
     "text": [
      "C:\\Users\\Alexis\\anaconda3\\lib\\site-packages\\sklearn\\svm\\_base.py:255: ConvergenceWarning: Solver terminated early (max_iter=1000).  Consider pre-processing your data with StandardScaler or MinMaxScaler.\n",
      "  warnings.warn('Solver terminated early (max_iter=%i).'\n",
      "C:\\Users\\Alexis\\anaconda3\\lib\\site-packages\\sklearn\\svm\\_base.py:255: ConvergenceWarning: Solver terminated early (max_iter=1000).  Consider pre-processing your data with StandardScaler or MinMaxScaler.\n",
      "  warnings.warn('Solver terminated early (max_iter=%i).'\n",
      "C:\\Users\\Alexis\\anaconda3\\lib\\site-packages\\sklearn\\svm\\_base.py:255: ConvergenceWarning: Solver terminated early (max_iter=1000).  Consider pre-processing your data with StandardScaler or MinMaxScaler.\n",
      "  warnings.warn('Solver terminated early (max_iter=%i).'\n",
      "C:\\Users\\Alexis\\anaconda3\\lib\\site-packages\\sklearn\\svm\\_base.py:255: ConvergenceWarning: Solver terminated early (max_iter=1000).  Consider pre-processing your data with StandardScaler or MinMaxScaler.\n",
      "  warnings.warn('Solver terminated early (max_iter=%i).'\n",
      "C:\\Users\\Alexis\\anaconda3\\lib\\site-packages\\sklearn\\svm\\_base.py:255: ConvergenceWarning: Solver terminated early (max_iter=1000).  Consider pre-processing your data with StandardScaler or MinMaxScaler.\n",
      "  warnings.warn('Solver terminated early (max_iter=%i).'\n"
     ]
    },
    {
     "name": "stdout",
     "output_type": "stream",
     "text": [
      "SVC : 210.2527 seconds\n"
     ]
    }
   ],
   "source": [
    "from sklearn.linear_model import LogisticRegression\n",
    "from sklearn.tree import DecisionTreeClassifier\n",
    "from sklearn.ensemble import RandomForestClassifier\n",
    "from sklearn.neighbors import KNeighborsClassifier\n",
    "from sklearn.svm import SVC\n",
    "\n",
    "n_components = [10, 50, 100, 150, 170]\n",
    "\n",
    "models = {LogisticRegression(random_state=0, max_iter=10000) : \"Logistic Regression\", \n",
    "          DecisionTreeClassifier(random_state=0) : \"Decision Tree\",\n",
    "          RandomForestClassifier(random_state=0, n_estimators=10) : \"Random Forest\",\n",
    "          KNeighborsClassifier() : \"KNeighbors\", \n",
    "          SVC(max_iter=1000) : \"SVC\"\n",
    "         }\n",
    "\n",
    "x_train_scaled, x_valid_scaled = standardize(x_train, x_valid)\n",
    "\n",
    "\n",
    "# Generates X_train, X_valid, Y_pred for all algorithms with different pca n_component values\n",
    "print(\"Process PCA and Predict :\")\n",
    "\n",
    "results = []\n",
    "for model in models:\n",
    "    \n",
    "    model_name = models.get(model)\n",
    "    t0 = time.perf_counter()\n",
    "    \n",
    "    results_model = []\n",
    "    for n_component in n_components:\n",
    "        \n",
    "        X_train, X_valid = pca(n_component, x_train_scaled, x_valid_scaled)\n",
    "        model.fit(X_train, y_train)\n",
    "        Y_pred = model.predict(X_valid)\n",
    "        \n",
    "        results_model.append((n_component, (X_train, X_valid, Y_pred)))\n",
    "        \n",
    "    results.append((model, results_model))\n",
    "    \n",
    "    t1 = time.perf_counter()\n",
    "    print(f\"{model_name} : {t1 - t0:0.4f} seconds\")"
   ]
  },
  {
   "cell_type": "markdown",
   "metadata": {},
   "source": [
    "## <a id=\"6\">6. Évaluations</a>  "
   ]
  },
  {
   "cell_type": "code",
   "execution_count": 51,
   "metadata": {},
   "outputs": [
    {
     "name": "stdout",
     "output_type": "stream",
     "text": [
      "Balanced accuracy score (n_components = 170):\n",
      "Logistic Regression  :  0.4855863532800949\n",
      "Decision Tree  :  0.5067269249612125\n",
      "Random Forest  :  0.49394673380724863\n",
      "KNeighbors  :  0.4806841147458016\n",
      "SVC  :  0.4971282993141389\n"
     ]
    }
   ],
   "source": [
    "from sklearn.metrics import accuracy_score\n",
    "\n",
    "print(\"Balanced accuracy score (n_components = 170):\")\n",
    "\n",
    "for model, sets in results:\n",
    "    \n",
    "    model_name = models.get(model)\n",
    "    \n",
    "    balanced_accuracy_score = metrics.balanced_accuracy_score(y_valid, sets[4][1][2])  # scoring\n",
    "    \n",
    "    print(model_name, \" : \", balanced_accuracy_score)\n",
    "    y_valid.value_counts()\n",
    "    "
   ]
  },
  {
   "cell_type": "markdown",
   "metadata": {},
   "source": [
    "### Code : Validation croisée\n",
    "\n",
    "Le code ci-dessus utilise une méthode simple (*hold out*) pour mesurer le score de validation. Utilisez la validation croisée (pour obtenir une estimation plus fiable) combinée à l'exploration des hyperparamètres (pour améliorer les résultats).\n",
    "\n",
    "Vous pouvez changer la valeur du nombre de validation croisée (CV) selon la valeur de l'erreur et le temps d'entrainement des modèles (compromis)."
   ]
  },
  {
   "cell_type": "code",
   "execution_count": 52,
   "metadata": {},
   "outputs": [],
   "source": [
    "CV = 10\n",
    "SCORINGS = \"balanced_accuracy\""
   ]
  },
  {
   "cell_type": "code",
   "execution_count": 54,
   "metadata": {},
   "outputs": [
    {
     "name": "stdout",
     "output_type": "stream",
     "text": [
      "Cross-Validation balanced accuracy :\n",
      "Logistic Regression : [0.821 0.989 0.988 0.989 0.987 0.988 0.987 0.99  0.99  0.989]\n"
     ]
    }
   ],
   "source": [
    "from sklearn.model_selection import cross_val_score\n",
    "\n",
    "model = LogisticRegression(random_state=0, max_iter=10000)\n",
    "CV_accuracy = cross_val_score(model, X_train, y_train, scoring=SCORINGS, cv=CV)  # scoring\n",
    "\n",
    "\n",
    "print(\"Cross-Validation balanced accuracy :\")\n",
    "print(\"Logistic Regression :\", CV_accuracy)"
   ]
  },
  {
   "cell_type": "markdown",
   "metadata": {
    "tags": []
   },
   "source": [
    "* **Pour 2 des modèles** (au moins 1 autre que les 2 proposés en baselines) :\n",
    "\n",
    "    * Pour différentes valeurs d'un des hyperparamètres, donnez les `balanced_accuracy` moyennes de la validation croisée sous forme de Boxplots (ou de diagramme à bâtons avec une barre d'erreur) : voir l'exemple présenté dans le graphique ci-dessous. \n",
    "    \n",
    "    * Explicitez succinctement quelles observations en tirer concernant la stabilité des prédictions.\n",
    "\n",
    "![](img/boxplot-cv.png)"
   ]
  },
  {
   "cell_type": "markdown",
   "metadata": {},
   "source": [
    "<span style=\"color:red\">\n",
    "    Répondre ci-dessous\n",
    "</span>"
   ]
  },
  {
   "cell_type": "code",
   "execution_count": 56,
   "metadata": {},
   "outputs": [
    {
     "name": "stdout",
     "output_type": "stream",
     "text": [
      "Process Cross-Validation :\n",
      "Logistic Regression : 27.7225 seconds\n",
      "Decision Tree : 195.5891 seconds\n",
      "Random Forest : 95.0367 seconds\n",
      "KNeighbors : 678.2222 seconds\n"
     ]
    },
    {
     "name": "stderr",
     "output_type": "stream",
     "text": [
      "C:\\Users\\Alexis\\anaconda3\\lib\\site-packages\\sklearn\\svm\\_base.py:255: ConvergenceWarning: Solver terminated early (max_iter=1000).  Consider pre-processing your data with StandardScaler or MinMaxScaler.\n",
      "  warnings.warn('Solver terminated early (max_iter=%i).'\n",
      "C:\\Users\\Alexis\\anaconda3\\lib\\site-packages\\sklearn\\svm\\_base.py:255: ConvergenceWarning: Solver terminated early (max_iter=1000).  Consider pre-processing your data with StandardScaler or MinMaxScaler.\n",
      "  warnings.warn('Solver terminated early (max_iter=%i).'\n",
      "C:\\Users\\Alexis\\anaconda3\\lib\\site-packages\\sklearn\\svm\\_base.py:255: ConvergenceWarning: Solver terminated early (max_iter=1000).  Consider pre-processing your data with StandardScaler or MinMaxScaler.\n",
      "  warnings.warn('Solver terminated early (max_iter=%i).'\n",
      "C:\\Users\\Alexis\\anaconda3\\lib\\site-packages\\sklearn\\svm\\_base.py:255: ConvergenceWarning: Solver terminated early (max_iter=1000).  Consider pre-processing your data with StandardScaler or MinMaxScaler.\n",
      "  warnings.warn('Solver terminated early (max_iter=%i).'\n",
      "C:\\Users\\Alexis\\anaconda3\\lib\\site-packages\\sklearn\\svm\\_base.py:255: ConvergenceWarning: Solver terminated early (max_iter=1000).  Consider pre-processing your data with StandardScaler or MinMaxScaler.\n",
      "  warnings.warn('Solver terminated early (max_iter=%i).'\n",
      "C:\\Users\\Alexis\\anaconda3\\lib\\site-packages\\sklearn\\svm\\_base.py:255: ConvergenceWarning: Solver terminated early (max_iter=1000).  Consider pre-processing your data with StandardScaler or MinMaxScaler.\n",
      "  warnings.warn('Solver terminated early (max_iter=%i).'\n",
      "C:\\Users\\Alexis\\anaconda3\\lib\\site-packages\\sklearn\\svm\\_base.py:255: ConvergenceWarning: Solver terminated early (max_iter=1000).  Consider pre-processing your data with StandardScaler or MinMaxScaler.\n",
      "  warnings.warn('Solver terminated early (max_iter=%i).'\n",
      "C:\\Users\\Alexis\\anaconda3\\lib\\site-packages\\sklearn\\svm\\_base.py:255: ConvergenceWarning: Solver terminated early (max_iter=1000).  Consider pre-processing your data with StandardScaler or MinMaxScaler.\n",
      "  warnings.warn('Solver terminated early (max_iter=%i).'\n",
      "C:\\Users\\Alexis\\anaconda3\\lib\\site-packages\\sklearn\\svm\\_base.py:255: ConvergenceWarning: Solver terminated early (max_iter=1000).  Consider pre-processing your data with StandardScaler or MinMaxScaler.\n",
      "  warnings.warn('Solver terminated early (max_iter=%i).'\n",
      "C:\\Users\\Alexis\\anaconda3\\lib\\site-packages\\sklearn\\svm\\_base.py:255: ConvergenceWarning: Solver terminated early (max_iter=1000).  Consider pre-processing your data with StandardScaler or MinMaxScaler.\n",
      "  warnings.warn('Solver terminated early (max_iter=%i).'\n"
     ]
    },
    {
     "name": "stdout",
     "output_type": "stream",
     "text": [
      "SVC : 338.2767 seconds\n"
     ]
    }
   ],
   "source": [
    "print(\"Process Cross-Validation :\")\n",
    "\n",
    "cv_scores = []\n",
    "for model, sets in results:\n",
    "    \n",
    "    model_name = models.get(model)\n",
    "    t0 = time.perf_counter()\n",
    "    \n",
    "    cv_score_model = []\n",
    "    for set in sets:\n",
    "    \n",
    "        X_train = set[1][0]\n",
    "        \n",
    "        cv_score_model.append(cross_val_score(model, X_train, y_train, scoring=SCORINGS, cv=10))\n",
    "    \n",
    "    cv_scores.append((model_name, cv_score_model))\n",
    "    \n",
    "    t1 = time.perf_counter()\n",
    "    print(f\"{model_name} : {t1 - t0:0.4f} seconds\")\n",
    "        "
   ]
  },
  {
   "cell_type": "code",
   "execution_count": 57,
   "metadata": {},
   "outputs": [
    {
     "data": {
      "text/plain": [
       "<function matplotlib.pyplot.show(close=None, block=None)>"
      ]
     },
     "execution_count": 57,
     "metadata": {},
     "output_type": "execute_result"
    },
    {
     "data": {
      "image/png": "[encoded data removed]",
      "text/plain": [
       "<Figure size 432x288 with 1 Axes>"
      ]
     },
     "metadata": {
      "image/png": {
       "height": 277,
       "width": 392
      },
      "needs_background": "light"
     },
     "output_type": "display_data"
    },
    {
     "data": {
      "image/png": "[encoded data removed]",
      "text/plain": [
       "<Figure size 432x288 with 1 Axes>"
      ]
     },
     "metadata": {
      "image/png": {
       "height": 277,
       "width": 405
      },
      "needs_background": "light"
     },
     "output_type": "display_data"
    },
    {
     "data": {
      "image/png": "[encoded data removed]",
      "text/plain": [
       "<Figure size 432x288 with 1 Axes>"
      ]
     },
     "metadata": {
      "image/png": {
       "height": 277,
       "width": 392
      },
      "needs_background": "light"
     },
     "output_type": "display_data"
    },
    {
     "data": {
      "image/png": "[encoded data removed]",
      "text/plain": [
       "<Figure size 432x288 with 1 Axes>"
      ]
     },
     "metadata": {
      "image/png": {
       "height": 277,
       "width": 392
      },
      "needs_background": "light"
     },
     "output_type": "display_data"
    },
    {
     "data": {
      "image/png": "[encoded data removed]",
      "text/plain": [
       "<Figure size 432x288 with 1 Axes>"
      ]
     },
     "metadata": {
      "image/png": {
       "height": 277,
       "width": 398
      },
      "needs_background": "light"
     },
     "output_type": "display_data"
    }
   ],
   "source": [
    "for model, cv_score in cv_scores:\n",
    "    \n",
    "    f, ax = plt.subplots()\n",
    "    plt.title(model)\n",
    "    plt.xlabel('param_pca_n_components')\n",
    "    plt.ylabel('balanced_accuracy')\n",
    "    plt.boxplot(cv_score)\n",
    "    ax.set_xticklabels([\"10\", \"50\", \"100\", \"150\", \"170\"])\n",
    "plt.show"
   ]
  },
  {
   "cell_type": "markdown",
   "metadata": {},
   "source": [
    "<span style=\"color:red\">\n",
    "    Utiliser des cellules markdown pour ajouter des commentaires\n",
    "</span>"
   ]
  },
  {
   "cell_type": "markdown",
   "metadata": {},
   "source": [
    "Grace à ce graphique, on se rend compte que le model le plus performant (en tenant compte des incertitudes) est LogisticRegression avec n_components=170 pour la pca"
   ]
  },
  {
   "cell_type": "markdown",
   "metadata": {},
   "source": [
    "* **Pour le modèle et sa combinaison d'hyperparamètres offrant le meilleur résultat** :\n",
    "\n",
    "    * Réalisez la matrice de confusion et décrivez-la succinctement."
   ]
  },
  {
   "cell_type": "code",
   "execution_count": 77,
   "metadata": {},
   "outputs": [
    {
     "data": {
      "text/plain": [
       "<sklearn.metrics._plot.confusion_matrix.ConfusionMatrixDisplay at 0x1c7c0651100>"
      ]
     },
     "execution_count": 77,
     "metadata": {},
     "output_type": "execute_result"
    },
    {
     "data": {
      "image/png": "[encoded data removed]",
      "text/plain": [
       "<Figure size 432x288 with 2 Axes>"
      ]
     },
     "metadata": {
      "image/png": {
       "height": 261,
       "width": 325
      },
      "needs_background": "light"
     },
     "output_type": "display_data"
    }
   ],
   "source": [
    "#Logistic regression\n",
    "clf = results[0][0]\n",
    "#X_test pour Logistic regression avec n_components=170 (pca)\n",
    "X_valid = results[0][1][4][1][1]\n",
    "\n",
    "from sklearn.metrics import plot_confusion_matrix\n",
    "\n",
    "plot_confusion_matrix(clf, X_valid, y_valid)"
   ]
  },
  {
   "cell_type": "markdown",
   "metadata": {},
   "source": [
    "<span style=\"color:red\">\n",
    "    Utiliser des cellules markdown pour ajouter des commentaires\n",
    "</span>"
   ]
  },
  {
   "cell_type": "markdown",
   "metadata": {},
   "source": []
  },
  {
   "cell_type": "markdown",
   "metadata": {},
   "source": [
    "* **Pour chacun de ces 2 modèles, à partir des données de validation créées précédemment** (`x_valid`, `y_valid`) :\n",
    "\n",
    "    * Mesurez l'aire sous la courbe ROC (AUC) à l'aide de la fonction de Scikit-Learn (`roc_auc_score`) et comparez les modèles avec leur combinaison respective d'hyperparamètres offrant le meilleur résultat."
   ]
  },
  {
   "cell_type": "code",
   "execution_count": 58,
   "metadata": {},
   "outputs": [
    {
     "name": "stdout",
     "output_type": "stream",
     "text": [
      "Process ROC :\n"
     ]
    },
    {
     "data": {
      "image/png": "[encoded data removed]",
      "text/plain": [
       "<Figure size 432x288 with 1 Axes>"
      ]
     },
     "metadata": {
      "image/png": {
       "height": 263,
       "width": 378
      },
      "needs_background": "light"
     },
     "output_type": "display_data"
    },
    {
     "data": {
      "image/png": "[encoded data removed]",
      "text/plain": [
       "<Figure size 432x288 with 1 Axes>"
      ]
     },
     "metadata": {
      "image/png": {
       "height": 263,
       "width": 378
      },
      "needs_background": "light"
     },
     "output_type": "display_data"
    },
    {
     "data": {
      "image/png": "[encoded data removed]",
      "text/plain": [
       "<Figure size 432x288 with 1 Axes>"
      ]
     },
     "metadata": {
      "image/png": {
       "height": 263,
       "width": 378
      },
      "needs_background": "light"
     },
     "output_type": "display_data"
    },
    {
     "data": {
      "image/png": "[encoded data removed]",
      "text/plain": [
       "<Figure size 432x288 with 1 Axes>"
      ]
     },
     "metadata": {
      "image/png": {
       "height": 263,
       "width": 378
      },
      "needs_background": "light"
     },
     "output_type": "display_data"
    },
    {
     "data": {
      "image/png": "[encoded data removed]",
      "text/plain": [
       "<Figure size 432x288 with 1 Axes>"
      ]
     },
     "metadata": {
      "image/png": {
       "height": 263,
       "width": 378
      },
      "needs_background": "light"
     },
     "output_type": "display_data"
    }
   ],
   "source": [
    "from sklearn.metrics import roc_auc_score\n",
    "\n",
    "print(\"Process ROC :\")\n",
    "\n",
    "roc_scores = []\n",
    "for model, sets in results:\n",
    "    \n",
    "    model_name = models.get(model)\n",
    "    t0 = time.perf_counter()\n",
    "    \n",
    "    roc_score_model = []\n",
    "    for set in sets:\n",
    "        \n",
    "        Y_pred = set[1][2]\n",
    "        \n",
    "        roc_score_model.append(roc_auc_score(y_valid, Y_pred))\n",
    "    \n",
    "    roc_scores.append((model_name, roc_score_model))\n",
    "    \n",
    "    plt.title(model_name)\n",
    "    plt.ylim([0.45, 0.6])\n",
    "    plt.bar(n_components, roc_score_model)\n",
    "    plt.show()"
   ]
  },
  {
   "cell_type": "markdown",
   "metadata": {},
   "source": [
    "<span style=\"color:red\">\n",
    "    Utiliser des cellules markdown pour ajouter des commentaires\n",
    "</span>"
   ]
  },
  {
   "cell_type": "markdown",
   "metadata": {},
   "source": []
  },
  {
   "cell_type": "markdown",
   "metadata": {},
   "source": [
    "### Code : Essayez d'améliorer votre score\n",
    "\n",
    "* Data augmentation (optionnel)\n",
    "\n",
    "Vu le déséquilibre entre les classes à prédire (survive, died), on peut espérer améliorer le score en les rééquilibrant. Une approche typique est la génération de données (voir slides du cours 6). Une des méthodes de génération est implémentée dans le module `imblearn`.\n",
    "\n",
    "`imblearn` a été développé pour s'interfacer facilement avec `sklearn`.\n",
    "Il propose notamment une version du `pipeline` qui permet l'intégration avec `sklearn`.\n",
    "\n",
    "Ci-dessous voici un exemple de `pipe` intégrant `imblearn` et `sklearn`."
   ]
  },
  {
   "cell_type": "markdown",
   "metadata": {},
   "source": [
    "<span style=\"color:red\">\n",
    "    Répondre ci-dessous\n",
    "</span>"
   ]
  },
  {
   "cell_type": "code",
   "execution_count": null,
   "metadata": {},
   "outputs": [],
   "source": [
    "# TODO: Data augmentation\n",
    "\n",
    "pipe = imblearn.pipeline.Pipeline(\n",
    "    [\n",
    "        (\"scale\", preprocessing.StandardScaler()),\n",
    "        (\"pca\", decomposition.PCA()),\n",
    "        (\"resample\", imblearn.over_sampling.SMOTE()),\n",
    "        (\"model\", model),\n",
    "    ]\n",
    ")"
   ]
  },
  {
   "cell_type": "code",
   "execution_count": 46,
   "metadata": {},
   "outputs": [],
   "source": [
    "#SMOTE\n",
    "Xb=pd.DataFrame(x_train)\n",
    "Yb=pd.DataFrame(y_train)\n",
    "\n",
    "from imblearn.over_sampling import SMOTE\n",
    "sm = SMOTE(random_state=2)\n",
    "x_train, y_train = sm.fit_resample(Xb, np.ravel(Yb))"
   ]
  },
  {
   "cell_type": "markdown",
   "metadata": {},
   "source": [
    "### Explication de ce que vous avez réalisé, conclusion et perspectives"
   ]
  },
  {
   "cell_type": "markdown",
   "metadata": {},
   "source": [
    "* Commencez par donner votre meilleur résultat obtenu lors de vos soumissions\n",
    "\n",
    "* Expliquez le chemin qui vous y a conduit\n",
    "\n",
    "    * Ce que vous avez essayé :\n",
    "\n",
    "        * Ce qui a fonctionné\n",
    "\n",
    "        * Ce qui n'a pas fonctionné et comment vous l'avez solutionné\n",
    "\n",
    "    * Quelle méthode avez-vous utilisée pour choisir les hyperparamètres ?\n",
    "\n",
    "    * Comparer la durée d'entrainement des principaux modèles utilisés ?\n",
    "\n",
    "* Qu'auriez-vous fait si vous aviez eu plus de temps ?"
   ]
  },
  {
   "cell_type": "markdown",
   "metadata": {},
   "source": [
    "<span style=\"color:red\">\n",
    "    Répondre ci-dessous\n",
    "</span>"
   ]
  },
  {
   "cell_type": "markdown",
   "metadata": {},
   "source": [
    "TODO: Le meilleur resultat obtenu est 0.76 obtenu apres minmaxscalar suivi d'un SMOTE"
   ]
  },
  {
   "cell_type": "markdown",
   "metadata": {},
   "source": [
    "### Question (optionnelle)\n",
    "\n",
    "* Qu'est-ce que le suréchantillonnage ? \n",
    "\n",
    "* En quoi pourrait-il être utile dans ce problème ?"
   ]
  },
  {
   "cell_type": "markdown",
   "metadata": {},
   "source": [
    "<span style=\"color:red\">\n",
    "    Répondre ci-dessous\n",
    "</span>"
   ]
  },
  {
   "cell_type": "markdown",
   "metadata": {},
   "source": [
    "* Le suréchantillonnage est une technique utilisé pour ajuster la distribution des données entre les classes en augmentant les données de la classe minoritaire sous representée à fin d'arriver a un ratio classe minoritaire/classe majoritaire convenable pour l'apprentisage.\n",
    "\n",
    "* Dans ce problème la classe minoritaire sous représentée est la classe des patients qui meurent, si on augmente les échantillons de patients qui meurent on peut fit notre modèle avec un dataset équilibrée sur lequel les algorithmes d'apprentissage sont plus effectifs."
   ]
  },
  {
   "cell_type": "markdown",
   "metadata": {},
   "source": [
    "## 7. Enregistrer les prédictions\n",
    "\n",
    "* Utilisez le code suivant pour faire des prédictions et pour les enregistrer sous forme de fichier ZIP\n",
    "* Soumettez ce fichier ZIP sur [le site du challenge](https://competitions.codalab.org/competitions/30715#participate-submit_results)\n",
    "(\"Participate > Submit/View Results > Submit\")\n",
    "* Faites de votre mieux pour être le ***premier sur le leaderboard !***"
   ]
  },
  {
   "cell_type": "markdown",
   "metadata": {},
   "source": [
    "<span style=\"color:red\">\n",
    "    !! Ne pas oublier de modifier la commande de la prédiction selon les données et modèles choisis !!\n",
    "</span>\n",
    "\n",
    "* Données : `x_test_fact_df`, `x_test_1hot_df`\n",
    "\n",
    "* Modèles : `model`, `search` (e.g., pour le `GridSearchCV`)"
   ]
  },
  {
   "cell_type": "code",
   "execution_count": null,
   "metadata": {},
   "outputs": [],
   "source": [
    "predictions = model.predict(x_test_1hot_df)  # compute predictions\n",
    "# VARS: x_test_df, x_test_fact_df, x_test_1hot_df, x_test_1hot_pcs\n",
    "# Models: model, search\n",
    "\n",
    "\n",
    "predictions_file = \"mimic_synthetic_test.csv\"\n",
    "\n",
    "pd.Series(predictions).to_csv(predictions_file, index=False, header=False)\n",
    "\n",
    "print(\"Predictions saved.\")\n",
    "\n",
    "t_stamp = time.asctime().replace(\" \", \"_\").replace(\":\", \"-\")\n",
    "\n",
    "output_file = f\"submission_{t_stamp}.zip\"\n",
    "\n",
    "!zip test_submission.zip mimic_synthetic_test.csv  # create a ZIP\n",
    "\n",
    "with ZipFile(output_file, \"w\") as z:\n",
    "    z.write(predictions_file)\n",
    "\n",
    "print(f\"The submission is ready: {output_file}\")"
   ]
  },
  {
   "cell_type": "markdown",
   "metadata": {},
   "source": [
    "---"
   ]
  },
  {
   "cell_type": "markdown",
   "metadata": {},
   "source": [
    "# Remarque sur le jeu de données\n",
    "\n",
    "Le jeu de données ne contient pas de données médicales réelles. Nous ne sommes pas autorisés à partager ces **données confidentielles** provenant de patients en soins intensifs. Pour éviter ce problème, les données ont été remplacées par des **données artificielles**.\n",
    "\n",
    "Afin d'avoir des données crédibles, elles ont été générées à l'aide d'un **Wasserstein GAN**.\n",
    "\n",
    "Pour plus d'informations, voici une référence : <br />\n",
    "[Privacy Preserving Synthetic Health Data](https://hal.inria.fr/hal-02160496/document) <br />\n",
    "Andrew Yale, Saloni Dash, Ritik Dutta, Isabelle Guyon, Adrien Pavao, Kristin Bennett <br />"
   ]
  },
  {
   "cell_type": "markdown",
   "metadata": {},
   "source": [
    "---"
   ]
  }
 ],
 "metadata": {
  "kernelspec": {
   "display_name": "Python 3",
   "language": "python",
   "name": "python3"
  },
  "language_info": {
   "codemirror_mode": {
    "name": "ipython",
    "version": 3
   },
   "file_extension": ".py",
   "mimetype": "text/x-python",
   "name": "python",
   "nbconvert_exporter": "python",
   "pygments_lexer": "ipython3",
   "version": "3.8.5"
  }
 },
 "nbformat": 4,
 "nbformat_minor": 4
}
